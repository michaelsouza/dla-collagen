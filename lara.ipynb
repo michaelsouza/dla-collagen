{
 "cells": [
  {
   "cell_type": "code",
   "execution_count": 43,
   "metadata": {},
   "outputs": [],
   "source": [
    "import numpy as np\n",
    "from random import randint \n",
    "import matplotlib.pyplot as plt \n",
    "\n",
    "#this create a class node\n",
    "class node:\n",
    "  individual = False \n",
    "\n",
    "  def site_label(self,i):\n",
    "    self.label = i \n",
    "  \n",
    "  def cord_node(self,L):\n",
    "    return (int(self.label%L), int(self.label/L)) #as coordenadas são tiradas do artido do Ziff Newman\n",
    "\n",
    "  def input_individual(self,NumberNodes):\n",
    "    self.individual = True \n",
    "    return NumberNodes - 1\n",
    "  \n",
    "def plot(square):\n",
    "  coords = np.where(square == 1)\n",
    "  for i in range (0,len(coords[0])):\n",
    "    plt.plot(coords[0][i],coords[1][i], 'ro')\n",
    "  \n",
    "  plt.xticks([])\n",
    "  plt.yticks([])\n",
    "  plt.show()\n",
    "  "
   ]
  },
  {
   "cell_type": "code",
   "execution_count": 63,
   "metadata": {},
   "outputs": [
    {
     "data": {
      "image/png": "[encoded data removed]",
      "text/plain": [
       "<Figure size 640x480 with 1 Axes>"
      ]
     },
     "metadata": {},
     "output_type": "display_data"
    }
   ],
   "source": [
    "L = 1024\n",
    "NumberNodes = int(0.1*L)\n",
    "net = []\n",
    "square = np.zeros((L,L))\n",
    "\n",
    "for i in range(L*L):\n",
    "  net.append(node())\n",
    "  net[i].site_label(i)\n",
    "  \n",
    "while(NumberNodes != 0 ):\n",
    "  site0 = randint(0,L*L)\n",
    "  if(not net[site0].individual):\n",
    "    NumberNodes = net[site0].input_individual(NumberNodes)\n",
    "    #print(net[site0].cord_node(L)[0])\n",
    "    square[net[site0].cord_node(L)[0]][net[site0].cord_node(L)[1]] = 1\n",
    "    #print(net[site0].label, site0)\n",
    "\n",
    "#fig, ax = plt.subplots()\n",
    "#heatmap = ax.imshow(square, cmap = 'Reds')\n",
    "plot(square)\n",
    "#cbar = ax.figure.colorbar(heatmap, ax =ax)\n",
    "#cbar.ax.set_ylabel('Valores', rotation = -90, va = \"bottom\")\n",
    "\n",
    "#ax.set_xlabel('L')\n",
    "#ax.set_ylabel('L')"
   ]
  }
 ],
 "metadata": {
  "kernelspec": {
   "display_name": "Python 3",
   "language": "python",
   "name": "python3"
  },
  "language_info": {
   "codemirror_mode": {
    "name": "ipython",
    "version": 3
   },
   "file_extension": ".py",
   "mimetype": "text/x-python",
   "name": "python",
   "nbconvert_exporter": "python",
   "pygments_lexer": "ipython3",
   "version": "3.10.6"
  },
  "orig_nbformat": 4
 },
 "nbformat": 4,
 "nbformat_minor": 2
}

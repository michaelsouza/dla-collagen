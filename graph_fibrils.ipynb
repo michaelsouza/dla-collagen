{
 "cells": [
  {
   "cell_type": "code",
   "execution_count": null,
   "metadata": {},
   "outputs": [],
   "source": [
    "import matplotlib.pyplot as plt\n",
    "import json\n",
    "from collections import defaultdict\n",
    "import numpy as np\n",
    "from collections import Counter"
   ]
  },
  {
   "cell_type": "code",
   "execution_count": null,
   "metadata": {},
   "outputs": [],
   "source": [
    "# Caminho para o arquivo JSON\n",
    "file_path = '/home/robert/Datas/Cores_fibrils/ts_2_seed_160.db'\n",
    "\n",
    "# Processando o arquivo para mapear cada 'rid' aos seus vizinhos\n",
    "neighbors_map = defaultdict(set)\n",
    "\n",
    "try:\n",
    "    with open(file_path, 'r') as file:\n",
    "        for line in file:\n",
    "            data = json.loads(line.strip())\n",
    "            if 'rid' in data:\n",
    "                rid = data['rid']\n",
    "                neigh_rids = data.get('neigh_rids', [])\n",
    "                for neigh_rid in neigh_rids:\n",
    "                    neighbors_map[rid].add(neigh_rid)\n",
    "\n",
    "except Exception as e:\n",
    "    print(f\"Erro ao processar o arquivo: {e}\")\n",
    "\n",
    "# Convertendo os conjuntos em listas para serem serializáveis em JSON\n",
    "neighbors_map_serializable = {rid: list(neighbors) for rid, neighbors in neighbors_map.items()}\n",
    "\n",
    "# Salvando o mapeamento em um arquivo JSON\n",
    "output_file_path = 'saida_vizinhos.json'\n",
    "try:\n",
    "    with open(output_file_path, 'w') as outfile:\n",
    "        json.dump(neighbors_map_serializable, outfile, indent=4)\n",
    "    print(f\"Dados salvos com sucesso em {output_file_path}\")\n",
    "except Exception as e:\n",
    "    print(f\"Erro ao salvar o arquivo: {e}\")"
   ]
  },
  {
   "cell_type": "code",
   "execution_count": null,
   "metadata": {},
   "outputs": [],
   "source": [
    "# Primeiro, calculamos quantos vizinhos cada 'rid' tem\n",
    "neighbors_count = {rid: len(neighbors) for rid, neighbors in neighbors_map.items()}\n",
    "\n",
    "# Em seguida, calculamos a distribuição desses números de vizinhos\n",
    "distribution = Counter(neighbors_count.values())\n",
    "\n",
    "distribution\n"
   ]
  }
 ],
 "metadata": {
  "language_info": {
   "name": "python"
  }
 },
 "nbformat": 4,
 "nbformat_minor": 2
}

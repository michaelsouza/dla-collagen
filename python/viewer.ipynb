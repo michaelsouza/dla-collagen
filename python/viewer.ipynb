{
 "cells": [
  {
   "cell_type": "code",
   "execution_count": 1,
   "metadata": {},
   "outputs": [
    {
     "data": {
      "text/html": [
       "<div id=\"glowscript\" class=\"glowscript\"></div>"
      ],
      "text/plain": [
       "<IPython.core.display.HTML object>"
      ]
     },
     "metadata": {},
     "output_type": "display_data"
    },
    {
     "data": {
      "application/javascript": "if (typeof Jupyter !== \"undefined\") { window.__context = { glowscript_container: $(\"#glowscript\").removeAttr(\"id\")};}else{ element.textContent = ' ';}",
      "text/plain": [
       "<IPython.core.display.Javascript object>"
      ]
     },
     "metadata": {},
     "output_type": "display_data"
    }
   ],
   "source": [
    "from vpython import *"
   ]
  },
  {
   "cell_type": "code",
   "execution_count": 5,
   "metadata": {},
   "outputs": [
    {
     "name": "stdout",
     "output_type": "stream",
     "text": [
      "creating box\n"
     ]
    },
    {
     "data": {
      "application/javascript": "if (typeof Jupyter !== \"undefined\") {require.undef(\"nbextensions/vpython_libraries/glow.min\");}else{element.textContent = ' ';}",
      "text/plain": [
       "<IPython.core.display.Javascript object>"
      ]
     },
     "metadata": {},
     "output_type": "display_data"
    },
    {
     "data": {
      "application/javascript": "if (typeof Jupyter !== \"undefined\") {require.undef(\"nbextensions/vpython_libraries/glowcomm\");}else{element.textContent = ' ';}",
      "text/plain": [
       "<IPython.core.display.Javascript object>"
      ]
     },
     "metadata": {},
     "output_type": "display_data"
    },
    {
     "data": {
      "application/javascript": "if (typeof Jupyter !== \"undefined\") {require.undef(\"nbextensions/vpython_libraries/jquery-ui.custom.min\");}else{element.textContent = ' ';}",
      "text/plain": [
       "<IPython.core.display.Javascript object>"
      ]
     },
     "metadata": {},
     "output_type": "display_data"
    },
    {
     "data": {
      "application/javascript": "if (typeof Jupyter !== \"undefined\") {require([\"nbextensions/vpython_libraries/glow.min\"], function(){console.log(\"GLOW LOADED\");});}else{element.textContent = ' ';}",
      "text/plain": [
       "<IPython.core.display.Javascript object>"
      ]
     },
     "metadata": {},
     "output_type": "display_data"
    },
    {
     "data": {
      "application/javascript": "if (typeof Jupyter !== \"undefined\") {require([\"nbextensions/vpython_libraries/glowcomm\"], function(){console.log(\"GLOWCOMM LOADED\");});}else{element.textContent = ' ';}",
      "text/plain": [
       "<IPython.core.display.Javascript object>"
      ]
     },
     "metadata": {},
     "output_type": "display_data"
    },
    {
     "data": {
      "application/javascript": "if (typeof Jupyter !== \"undefined\") {require([\"nbextensions/vpython_libraries/jquery-ui.custom.min\"], function(){console.log(\"JQUERY LOADED\");});}else{element.textContent = ' ';}",
      "text/plain": [
       "<IPython.core.display.Javascript object>"
      ]
     },
     "metadata": {},
     "output_type": "display_data"
    },
    {
     "ename": "KeyboardInterrupt",
     "evalue": "",
     "output_type": "error",
     "traceback": [
      "\u001b[0;31m---------------------------------------------------------------------------\u001b[0m",
      "\u001b[0;31mKeyboardInterrupt\u001b[0m                         Traceback (most recent call last)",
      "\u001b[1;32m/home/robert/gitrepos/dla-collagen/viewer.ipynb Cell 2'\u001b[0m in \u001b[0;36m<cell line: 13>\u001b[0;34m()\u001b[0m\n\u001b[1;32m     <a href='vscode-notebook-cell:/home/robert/gitrepos/dla-collagen/viewer.ipynb#ch0000001?line=12'>13</a>\u001b[0m \u001b[39mfor\u001b[39;00m i \u001b[39min\u001b[39;00m \u001b[39mrange\u001b[39m(\u001b[39m0\u001b[39m,\u001b[39m10\u001b[39m):\n\u001b[1;32m     <a href='vscode-notebook-cell:/home/robert/gitrepos/dla-collagen/viewer.ipynb#ch0000001?line=13'>14</a>\u001b[0m     \u001b[39mprint\u001b[39m(\u001b[39m'\u001b[39m\u001b[39mcreating box\u001b[39m\u001b[39m'\u001b[39m)\n\u001b[0;32m---> <a href='vscode-notebook-cell:/home/robert/gitrepos/dla-collagen/viewer.ipynb#ch0000001?line=14'>15</a>\u001b[0m     box(pos \u001b[39m=\u001b[39;49m vector(bx[i], by[i], bz[i]), length\u001b[39m=\u001b[39;49m\u001b[39m1\u001b[39;49m, width\u001b[39m=\u001b[39;49m\u001b[39m1\u001b[39;49m, height\u001b[39m=\u001b[39;49m\u001b[39m18\u001b[39;49m, color\u001b[39m=\u001b[39;49mcolor\u001b[39m.\u001b[39;49mgreen, visible\u001b[39m=\u001b[39;49m\u001b[39mFalse\u001b[39;49;00m)\n",
      "File \u001b[0;32m~/.local/lib/python3.8/site-packages/vpython/vpython.py:1147\u001b[0m, in \u001b[0;36mbox.__init__\u001b[0;34m(self, **args)\u001b[0m\n\u001b[1;32m   1145\u001b[0m args[\u001b[39m'\u001b[39m\u001b[39m_default_size\u001b[39m\u001b[39m'\u001b[39m] \u001b[39m=\u001b[39m vector(\u001b[39m1\u001b[39m,\u001b[39m1\u001b[39m,\u001b[39m1\u001b[39m)\n\u001b[1;32m   1146\u001b[0m args[\u001b[39m'\u001b[39m\u001b[39m_objName\u001b[39m\u001b[39m'\u001b[39m] \u001b[39m=\u001b[39m \u001b[39m\"\u001b[39m\u001b[39mbox\u001b[39m\u001b[39m\"\u001b[39m\n\u001b[0;32m-> 1147\u001b[0m \u001b[39msuper\u001b[39;49m(box, \u001b[39mself\u001b[39;49m)\u001b[39m.\u001b[39;49msetup(args)\n",
      "File \u001b[0;32m~/.local/lib/python3.8/site-packages/vpython/vpython.py:580\u001b[0m, in \u001b[0;36mstandardAttributes.setup\u001b[0;34m(self, args)\u001b[0m\n\u001b[1;32m    579\u001b[0m \u001b[39mdef\u001b[39;00m \u001b[39msetup\u001b[39m(\u001b[39mself\u001b[39m, args):\n\u001b[0;32m--> 580\u001b[0m     \u001b[39msuper\u001b[39;49m(standardAttributes, \u001b[39mself\u001b[39;49m)\u001b[39m.\u001b[39;49m\u001b[39m__init__\u001b[39;49m()\n\u001b[1;32m    581\u001b[0m     \u001b[39mself\u001b[39m\u001b[39m.\u001b[39m_constructing \u001b[39m=\u001b[39m \u001b[39mTrue\u001b[39;00m  \u001b[39m## calls to setters are from constructor\u001b[39;00m\n\u001b[1;32m    583\u001b[0m     objName \u001b[39m=\u001b[39m \u001b[39mself\u001b[39m\u001b[39m.\u001b[39m_objName \u001b[39m=\u001b[39m args[\u001b[39m'\u001b[39m\u001b[39m_objName\u001b[39m\u001b[39m'\u001b[39m]  \u001b[39m## identifies object type\u001b[39;00m\n",
      "File \u001b[0;32m~/.local/lib/python3.8/site-packages/vpython/vpython.py:239\u001b[0m, in \u001b[0;36mbaseObj.__init__\u001b[0;34m(self, **kwargs)\u001b[0m\n\u001b[1;32m    236\u001b[0m \u001b[39mif\u001b[39;00m \u001b[39mnot\u001b[39;00m (baseObj\u001b[39m.\u001b[39m_view_constructed \u001b[39mor\u001b[39;00m\n\u001b[1;32m    237\u001b[0m         baseObj\u001b[39m.\u001b[39m_canvas_constructing):\n\u001b[1;32m    238\u001b[0m     \u001b[39mif\u001b[39;00m _isnotebook:\n\u001b[0;32m--> 239\u001b[0m         \u001b[39mfrom\u001b[39;00m \u001b[39m.\u001b[39;00m\u001b[39mwith_notebook\u001b[39;00m \u001b[39mimport\u001b[39;00m _\n\u001b[1;32m    240\u001b[0m     \u001b[39melse\u001b[39;00m:\n\u001b[1;32m    241\u001b[0m         \u001b[39mfrom\u001b[39;00m \u001b[39m.\u001b[39;00m\u001b[39mno_notebook\u001b[39;00m \u001b[39mimport\u001b[39;00m _\n",
      "File \u001b[0;32m~/.local/lib/python3.8/site-packages/vpython/with_notebook.py:153\u001b[0m, in \u001b[0;36m<module>\u001b[0;34m\u001b[0m\n\u001b[1;32m    151\u001b[0m baseObj\u001b[39m.\u001b[39mglow \u001b[39m=\u001b[39m GlowWidget(wsport\u001b[39m=\u001b[39m__SOCKET_PORT, wsuri\u001b[39m=\u001b[39m\u001b[39m'\u001b[39m\u001b[39m/ws\u001b[39m\u001b[39m'\u001b[39m)\n\u001b[1;32m    152\u001b[0m \u001b[39mwhile\u001b[39;00m (\u001b[39mnot\u001b[39;00m wsConnected):\n\u001b[0;32m--> 153\u001b[0m     time\u001b[39m.\u001b[39;49msleep(\u001b[39m0.1\u001b[39;49m)          \u001b[39m# wait for websocket to connect\u001b[39;00m\n\u001b[1;32m    155\u001b[0m baseObj\u001b[39m.\u001b[39mtrigger()  \u001b[39m# start the trigger ping-pong process\u001b[39;00m\n\u001b[1;32m    158\u001b[0m \u001b[39m# Same justification as above for removing the ipykernel check.\u001b[39;00m\n\u001b[1;32m    159\u001b[0m \u001b[39m# There was also an IPython version check for >=4, which was\u001b[39;00m\n\u001b[1;32m    160\u001b[0m \u001b[39m# released in Nov 2015. Ok to stop supporting in 2.019 I think.\u001b[39;00m\n",
      "\u001b[0;31mKeyboardInterrupt\u001b[0m: "
     ]
    }
   ],
   "source": [
    "bx = []\n",
    "by = []\n",
    "bz = []\n",
    "with open ('dla.dat') as fid:\n",
    "    for row in fid.readlines():\n",
    "        if 'bind' in row:\n",
    "            \n",
    "            row = row.split()\n",
    "            bx.append(int(row[2]))\n",
    "            by.append(int(row[3]))\n",
    "            bz.append(int(row[4]))\n",
    "\n",
    "for i in range(0,10):\n",
    "    print('creating box')\n",
    "    box(pos = vector(bx[i], by[i], bz[i]), length=1, width=1, height=18, color=color.green, visible=False)"
   ]
  }
 ],
 "metadata": {
  "kernelspec": {
   "display_name": "Python 3.8.10 64-bit",
   "language": "python",
   "name": "python3"
  },
  "language_info": {
   "codemirror_mode": {
    "name": "ipython",
    "version": 3
   },
   "file_extension": ".py",
   "mimetype": "text/x-python",
   "name": "python",
   "nbconvert_exporter": "python",
   "pygments_lexer": "ipython3",
   "version": "3.8.10"
  },
  "orig_nbformat": 4,
  "vscode": {
   "interpreter": {
    "hash": "31f2aee4e71d21fbe5cf8b01ff0e069b9275f58929596ceb00d14d90e3e16cd6"
   }
  }
 },
 "nbformat": 4,
 "nbformat_minor": 2
}

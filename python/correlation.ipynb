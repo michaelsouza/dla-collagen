import numpy as np

V:list
n = len(V)
D = []
for i, a in enumerate(V):
    for j, b in enumerate(V):
        D.append(np.abs(a[0] - b[0]) + np.abs(a[1] - b[1]))

C, k = np.unique(D[:], return_counts=True)
C = C / n
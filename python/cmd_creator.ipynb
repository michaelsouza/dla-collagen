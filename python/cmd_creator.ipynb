{
 "cells": [
  {
   "cell_type": "code",
   "execution_count": 1,
   "metadata": {},
   "outputs": [],
   "source": [
    "ts = 1\n",
    "r = 0\n",
    "with open('./cmd.txt', 'w') as fid:\n",
    "    for i in range(0,5):\n",
    "        char = 'n'\n",
    "    \n",
    "        for i in range(0,5):\n",
    "            r+=5\n",
    "            fid.write('./fast_dla.bin -num_bind 50000 -mode %s -ts %d -seed %d\\n' %(char, ts, r))\n",
    "        ts = ts *10\n",
    "    ts = 1\n",
    "    for i in range(0,5):\n",
    "        char = 's'\n",
    "    \n",
    "        for i in range(0,5):\n",
    "            r+=5\n",
    "            fid.write('./fast_dla.bin -num_bind 10000 -mode %s -ts %d -seed %d\\n' %(char, ts, r))\n",
    "        ts = ts *10"
   ]
  },
  {
   "cell_type": "code",
   "execution_count": 1,
   "metadata": {},
   "outputs": [
    {
     "name": "stdout",
     "output_type": "stream",
     "text": [
      "50\n",
      "dla_mode_s_ts_16_nb_30000_seed_1720_.dat\n",
      "dla_mode_s_ts_4096_nb_30000_seed_5875_.dat\n",
      "dla_mode_s_ts_16384_nb_30000_seed_7300_.dat\n",
      "dla_mode_s_ts_512_nb_30000_seed_4075_.dat\n",
      "dla_mode_s_ts_16384_nb_30000_seed_6955_.dat\n",
      "dla_mode_s_ts_4096_nb_30000_seed_5515_.dat\n",
      "dla_mode_s_ts_2_nb_30000_seed_490_.dat\n",
      "dla_mode_s_ts_1024_nb_30000_seed_5155_.dat\n",
      "dla_mode_s_ts_64_nb_30000_seed_2440_.dat\n",
      "dla_mode_s_ts_512_nb_30000_seed_3895_.dat\n",
      "dla_mode_s_ts_8192_nb_30000_seed_6160_.dat\n",
      "dla_mode_s_ts_2_nb_30000_seed_715_.dat\n",
      "dla_mode_s_ts_16_nb_30000_seed_1885_.dat\n",
      "dla_mode_s_ts_64_nb_30000_seed_2500_.dat\n",
      "dla_mode_s_ts_8192_nb_30000_seed_6325_.dat\n",
      "dla_mode_s_ts_8192_nb_30000_seed_6190_.dat\n",
      "dla_mode_s_ts_16_nb_30000_seed_1645_.dat\n",
      "dla_mode_s_ts_16_nb_30000_seed_1735_.dat\n",
      "dla_mode_s_ts_8_nb_30000_seed_1030_.dat\n",
      "dla_mode_s_ts_128_nb_30000_seed_3190_.dat\n",
      "dla_mode_s_ts_4096_nb_30000_seed_5830_.dat\n",
      "dla_mode_s_ts_1024_nb_30000_seed_4675_.dat\n",
      "dla_mode_s_ts_16_nb_30000_seed_2350_.dat\n",
      "dla_mode_s_ts_16384_nb_30000_seed_7060_.dat\n",
      "dla_mode_s_ts_8192_nb_30000_seed_6640_.dat\n",
      "dla_mode_s_ts_2_nb_30000_seed_445_.dat\n",
      "dla_mode_s_ts_2_nb_30000_seed_460_.dat\n",
      "dla_mode_s_ts_128_nb_30000_seed_3460_.dat\n",
      "dla_mode_s_ts_128_nb_30000_seed_3505_.dat\n",
      "dla_mode_s_ts_128_nb_30000_seed_3310_.dat\n",
      "dla_mode_s_ts_8192_nb_30000_seed_6355_.dat\n",
      "dla_mode_s_ts_4096_nb_30000_seed_5965_.dat\n",
      "dla_mode_s_ts_64_nb_30000_seed_2560_.dat\n",
      "dla_mode_s_ts_1024_nb_30000_seed_4990_.dat\n",
      "dla_mode_s_ts_8_nb_30000_seed_1285_.dat\n",
      "dla_mode_s_ts_512_nb_30000_seed_4090_.dat\n",
      "dla_mode_s_ts_16384_nb_30000_seed_7390_.dat\n",
      "dla_mode_s_ts_512_nb_30000_seed_4000_.dat\n",
      "dla_mode_s_ts_64_nb_30000_seed_3025_.dat\n",
      "dla_mode_s_ts_8_nb_30000_seed_880_.dat\n",
      "dla_mode_s_ts_64_nb_30000_seed_2380_.dat\n",
      "dla_mode_s_ts_8_nb_30000_seed_1435_.dat\n",
      "dla_mode_s_ts_4096_nb_30000_seed_5440_.dat\n",
      "dla_mode_s_ts_1024_nb_30000_seed_4960_.dat\n",
      "dla_mode_s_ts_2_nb_30000_seed_325_.dat\n",
      "dla_mode_s_ts_1024_nb_30000_seed_4870_.dat\n",
      "dla_mode_s_ts_512_nb_30000_seed_3955_.dat\n",
      "dla_mode_s_ts_16384_nb_30000_seed_7150_.dat\n",
      "dla_mode_s_ts_128_nb_30000_seed_3220_.dat\n",
      "dla_mode_s_ts_8_nb_30000_seed_1390_.dat\n"
     ]
    }
   ],
   "source": [
    "import os\n",
    "\n",
    "folder_path = \"/home/robert/data_zurik/fibrilas_usadas/\"\n",
    "files = [f for f in os.listdir(folder_path) if f.endswith(\".dat\")]\n",
    "\n",
    "print(len(files))\n",
    "for file in files:\n",
    "    print(file)\n"
   ]
  },
  {
   "cell_type": "code",
   "execution_count": 4,
   "metadata": {},
   "outputs": [
    {
     "name": "stdout",
     "output_type": "stream",
     "text": [
      "/home/robert/data_zurik/fibrilas_usadas/dla_mode_s_ts_16_nb_30000_seed_1720_.dat\n",
      "/home/robert/data_zurik/fibrilas_usadas/dla_mode_s_ts_4096_nb_30000_seed_5875_.dat\n",
      "/home/robert/data_zurik/fibrilas_usadas/dla_mode_s_ts_16384_nb_30000_seed_7300_.dat\n",
      "/home/robert/data_zurik/fibrilas_usadas/dla_mode_s_ts_512_nb_30000_seed_4075_.dat\n",
      "/home/robert/data_zurik/fibrilas_usadas/dla_mode_s_ts_16384_nb_30000_seed_6955_.dat\n",
      "/home/robert/data_zurik/fibrilas_usadas/dla_mode_s_ts_4096_nb_30000_seed_5515_.dat\n",
      "/home/robert/data_zurik/fibrilas_usadas/dla_mode_s_ts_2_nb_30000_seed_490_.dat\n",
      "/home/robert/data_zurik/fibrilas_usadas/dla_mode_s_ts_1024_nb_30000_seed_5155_.dat\n",
      "/home/robert/data_zurik/fibrilas_usadas/dla_mode_s_ts_64_nb_30000_seed_2440_.dat\n",
      "/home/robert/data_zurik/fibrilas_usadas/dla_mode_s_ts_512_nb_30000_seed_3895_.dat\n",
      "/home/robert/data_zurik/fibrilas_usadas/dla_mode_s_ts_8192_nb_30000_seed_6160_.dat\n",
      "/home/robert/data_zurik/fibrilas_usadas/dla_mode_s_ts_2_nb_30000_seed_715_.dat\n",
      "/home/robert/data_zurik/fibrilas_usadas/dla_mode_s_ts_16_nb_30000_seed_1885_.dat\n",
      "/home/robert/data_zurik/fibrilas_usadas/dla_mode_s_ts_64_nb_30000_seed_2500_.dat\n",
      "/home/robert/data_zurik/fibrilas_usadas/dla_mode_s_ts_8192_nb_30000_seed_6325_.dat\n",
      "/home/robert/data_zurik/fibrilas_usadas/dla_mode_s_ts_8192_nb_30000_seed_6190_.dat\n",
      "/home/robert/data_zurik/fibrilas_usadas/dla_mode_s_ts_16_nb_30000_seed_1645_.dat\n",
      "/home/robert/data_zurik/fibrilas_usadas/dla_mode_s_ts_16_nb_30000_seed_1735_.dat\n",
      "/home/robert/data_zurik/fibrilas_usadas/dla_mode_s_ts_8_nb_30000_seed_1030_.dat\n",
      "/home/robert/data_zurik/fibrilas_usadas/dla_mode_s_ts_128_nb_30000_seed_3190_.dat\n",
      "/home/robert/data_zurik/fibrilas_usadas/dla_mode_s_ts_4096_nb_30000_seed_5830_.dat\n",
      "/home/robert/data_zurik/fibrilas_usadas/dla_mode_s_ts_1024_nb_30000_seed_4675_.dat\n",
      "/home/robert/data_zurik/fibrilas_usadas/dla_mode_s_ts_16_nb_30000_seed_2350_.dat\n",
      "/home/robert/data_zurik/fibrilas_usadas/dla_mode_s_ts_16384_nb_30000_seed_7060_.dat\n",
      "/home/robert/data_zurik/fibrilas_usadas/dla_mode_s_ts_8192_nb_30000_seed_6640_.dat\n",
      "/home/robert/data_zurik/fibrilas_usadas/dla_mode_s_ts_2_nb_30000_seed_445_.dat\n",
      "/home/robert/data_zurik/fibrilas_usadas/dla_mode_s_ts_2_nb_30000_seed_460_.dat\n",
      "/home/robert/data_zurik/fibrilas_usadas/dla_mode_s_ts_128_nb_30000_seed_3460_.dat\n",
      "/home/robert/data_zurik/fibrilas_usadas/dla_mode_s_ts_128_nb_30000_seed_3505_.dat\n",
      "/home/robert/data_zurik/fibrilas_usadas/dla_mode_s_ts_128_nb_30000_seed_3310_.dat\n",
      "/home/robert/data_zurik/fibrilas_usadas/dla_mode_s_ts_8192_nb_30000_seed_6355_.dat\n",
      "/home/robert/data_zurik/fibrilas_usadas/dla_mode_s_ts_4096_nb_30000_seed_5965_.dat\n",
      "/home/robert/data_zurik/fibrilas_usadas/dla_mode_s_ts_64_nb_30000_seed_2560_.dat\n",
      "/home/robert/data_zurik/fibrilas_usadas/dla_mode_s_ts_1024_nb_30000_seed_4990_.dat\n",
      "/home/robert/data_zurik/fibrilas_usadas/dla_mode_s_ts_8_nb_30000_seed_1285_.dat\n",
      "/home/robert/data_zurik/fibrilas_usadas/dla_mode_s_ts_512_nb_30000_seed_4090_.dat\n",
      "/home/robert/data_zurik/fibrilas_usadas/dla_mode_s_ts_16384_nb_30000_seed_7390_.dat\n",
      "/home/robert/data_zurik/fibrilas_usadas/dla_mode_s_ts_512_nb_30000_seed_4000_.dat\n",
      "/home/robert/data_zurik/fibrilas_usadas/dla_mode_s_ts_64_nb_30000_seed_3025_.dat\n",
      "/home/robert/data_zurik/fibrilas_usadas/dla_mode_s_ts_8_nb_30000_seed_880_.dat\n",
      "/home/robert/data_zurik/fibrilas_usadas/dla_mode_s_ts_64_nb_30000_seed_2380_.dat\n",
      "/home/robert/data_zurik/fibrilas_usadas/dla_mode_s_ts_8_nb_30000_seed_1435_.dat\n",
      "/home/robert/data_zurik/fibrilas_usadas/dla_mode_s_ts_4096_nb_30000_seed_5440_.dat\n",
      "/home/robert/data_zurik/fibrilas_usadas/dla_mode_s_ts_1024_nb_30000_seed_4960_.dat\n",
      "/home/robert/data_zurik/fibrilas_usadas/dla_mode_s_ts_2_nb_30000_seed_325_.dat\n",
      "/home/robert/data_zurik/fibrilas_usadas/dla_mode_s_ts_1024_nb_30000_seed_4870_.dat\n",
      "/home/robert/data_zurik/fibrilas_usadas/dla_mode_s_ts_512_nb_30000_seed_3955_.dat\n",
      "/home/robert/data_zurik/fibrilas_usadas/dla_mode_s_ts_16384_nb_30000_seed_7150_.dat\n",
      "/home/robert/data_zurik/fibrilas_usadas/dla_mode_s_ts_128_nb_30000_seed_3220_.dat\n",
      "/home/robert/data_zurik/fibrilas_usadas/dla_mode_s_ts_8_nb_30000_seed_1390_.dat\n"
     ]
    }
   ],
   "source": [
    "folder = '/data_particles/'\n",
    "with open('./cmd_parallel.txt', 'w') as fid:\n",
    "    for file in files:\n",
    "        name = folder_path + \"\" + file\n",
    "        print(name)\n",
    "        fid.write('python3 stress_copy.py -file %s\\n' %name)"
   ]
  },
  {
   "cell_type": "code",
   "execution_count": null,
   "metadata": {},
   "outputs": [],
   "source": [
    "r = 130\n",
    "ts = [2 , 8, 16, 64, 128, 512, 1024, 4096, 8192, 2*8192]\n",
    "\n",
    "with open('./cmd_cluster.txt', 'w') as fid:\n",
    "    for j in ts:\n",
    "        for i in range(50):\n",
    "                \n",
    "            fid.write('./fast_dla.bin -num_bind 30000 -mode s -ts %d -seed %d\\n' %(j, r))\n",
    "            r = r + 15"
   ]
  }
 ],
 "metadata": {
  "kernelspec": {
   "display_name": "Python 3.7.6 ('base')",
   "language": "python",
   "name": "python3"
  },
  "language_info": {
   "codemirror_mode": {
    "name": "ipython",
    "version": 3
   },
   "file_extension": ".py",
   "mimetype": "text/x-python",
   "name": "python",
   "nbconvert_exporter": "python",
   "pygments_lexer": "ipython3",
   "version": "3.8.10"
  },
  "orig_nbformat": 4,
  "vscode": {
   "interpreter": {
    "hash": "bdae8ebc0151ec65c4f1198b193fec26fb9b849a179ab75edca17b99fd707516"
   }
  }
 },
 "nbformat": 4,
 "nbformat_minor": 2
}

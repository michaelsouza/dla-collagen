{
 "cells": [
  {
   "cell_type": "code",
   "execution_count": 1,
   "metadata": {},
   "outputs": [],
   "source": [
    "ts = 1\n",
    "r = 0\n",
    "with open('./cmd.txt', 'w') as fid:\n",
    "    for i in range(0,5):\n",
    "        char = 'n'\n",
    "    \n",
    "        for i in range(0,5):\n",
    "            r+=5\n",
    "            fid.write('./fast_dla.bin -num_bind 50000 -mode %s -ts %d -seed %d\\n' %(char, ts, r))\n",
    "        ts = ts *10\n",
    "    ts = 1\n",
    "    for i in range(0,5):\n",
    "        char = 's'\n",
    "    \n",
    "        for i in range(0,5):\n",
    "            r+=5\n",
    "            fid.write('./fast_dla.bin -num_bind 10000 -mode %s -ts %d -seed %d\\n' %(char, ts, r))\n",
    "        ts = ts *10"
   ]
  },
  {
   "cell_type": "code",
   "execution_count": null,
   "metadata": {},
   "outputs": [],
   "source": [
    "r = 130\n",
    "ts = [2 , 8, 16, 64, 128, 512, 1024, 4096, 8192, 2*8192]\n",
    "\n",
    "with open('./cmd.txt', 'w') as fid:\n",
    "    for j in ts:\n",
    "        for i in range(50):\n",
    "                \n",
    "            fid.write('./fast_dla.bin -num_bind 30000 -mode s -ts %d -seed %d\\n' %(j, r))\n",
    "            r = r + 15"
   ]
  }
 ],
 "metadata": {
  "kernelspec": {
   "display_name": "Python 3.7.6 ('base')",
   "language": "python",
   "name": "python3"
  },
  "language_info": {
   "codemirror_mode": {
    "name": "ipython",
    "version": 3
   },
   "file_extension": ".py",
   "mimetype": "text/x-python",
   "name": "python",
   "nbconvert_exporter": "python",
   "pygments_lexer": "ipython3",
   "version": "3.8.10"
  },
  "orig_nbformat": 4,
  "vscode": {
   "interpreter": {
    "hash": "bdae8ebc0151ec65c4f1198b193fec26fb9b849a179ab75edca17b99fd707516"
   }
  }
 },
 "nbformat": 4,
 "nbformat_minor": 2
}

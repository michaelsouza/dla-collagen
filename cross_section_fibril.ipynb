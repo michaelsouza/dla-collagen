{
 "cells": [
  {
   "cell_type": "code",
   "execution_count": null,
   "metadata": {},
   "outputs": [],
   "source": [
    "import os\n",
    "\n",
    "# Caminho para a pasta onde os arquivos estão localizados\n",
    "pasta = 'caminho/para/sua/pasta'\n",
    "\n",
    "# Padrão para identificar os arquivos\n",
    "padrao = 'ts_'\n",
    "\n",
    "# Listar todos os arquivos na pasta\n",
    "arquivos = [arquivo for arquivo in os.listdir(pasta) if padrao in arquivo]\n",
    "\n",
    "# Ler e imprimir o conteúdo de cada arquivo\n",
    "for arquivo in arquivos:\n",
    "    caminho_completo = os.path.join(pasta, arquivo)\n",
    "    with open(caminho_completo, 'r') as file:\n",
    "        conteudo = file.read()\n",
    "        print(f\"Conteúdo do arquivo {arquivo}:\\n{conteudo}\\n\")\n"
   ]
  },
  {
   "cell_type": "code",
   "execution_count": null,
   "metadata": {},
   "outputs": [],
   "source": [
    "import os\n",
    "import json\n",
    "import numpy as np\n",
    "\n",
    "def ler_arquivo_json(caminho):\n",
    "    with open(caminho, 'r') as file:\n",
    "        data = json.load(file)\n",
    "        # Adaptar esta linha conforme a estrutura de seus dados JSON\n",
    "        coordenadas = np.array([[particula['x'], particula['y'], particula['z']] for particula in data])\n",
    "    return coordenadas\n",
    "\n",
    "def calcular_centro_de_massa(coordenadas):\n",
    "    return np.mean(coordenadas, axis=0)\n",
    "\n",
    "def calcular_circulo_minimo(coordenadas, centro_massa):\n",
    "    distancias = np.sqrt(np.sum((coordenadas - centro_massa)**2, axis=1))\n",
    "    raio = np.max(distancias)\n",
    "    return raio\n",
    "\n",
    "pasta = 'caminho/para/sua/pasta'\n",
    "padrao = 'ts_'\n",
    "arquivos = [arquivo for arquivo in os.listdir(pasta) if padrao in arquivo]\n",
    "\n",
    "for arquivo in arquivos:\n",
    "    caminho_completo = os.path.join(pasta, arquivo)\n",
    "    coordenadas = ler_arquivo_json(caminho_completo)\n",
    "    \n",
    "    n_amostras = 20\n",
    "    tamanho_amostra = len(coordenadas) // n_amostras\n",
    "\n",
    "    for i in range(n_amostras):\n",
    "        inicio = i * tamanho_amostra\n",
    "        fim = inicio + tamanho_amostra\n",
    "        amostra = coordenadas[inicio:fim]\n",
    "        \n",
    "        centro_massa = calcular_centro_de_massa(amostra)\n",
    "        raio = calcular_circulo_minimo(amostra, centro_massa)\n",
    "        \n",
    "        print(f\"Arquivo: {arquivo}, Amostra: {i+1}, Centro de Massa: {centro_massa}, Raio: {raio}\")\n"
   ]
  }
 ],
 "metadata": {
  "language_info": {
   "name": "python"
  }
 },
 "nbformat": 4,
 "nbformat_minor": 2
}

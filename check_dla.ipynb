{
 "cells": [
  {
   "cell_type": "code",
   "execution_count": null,
   "metadata": {},
   "outputs": [],
   "source": [
    "import pandas as pd\n",
    "import numpy as np\n",
    "import plotly.express as px\n",
    "import seaborn as sns\n",
    "from numpy.linalg import norm"
   ]
  },
  {
   "cell_type": "code",
   "execution_count": null,
   "metadata": {},
   "outputs": [],
   "source": [
    "def read_dat(fdat):\n",
    "    df = {}\n",
    "    with open(fdat, 'r') as fid:\n",
    "        for row in fid.readlines():\n",
    "            row = row.split()\n",
    "            if row[0] == 'add':\n",
    "                uid = int(row[1])\n",
    "                x = int(row[2])\n",
    "                y = int(row[3])\n",
    "                z = int(row[4])\n",
    "                df[uid] = {'p':[(x,y,z)], 'bind':False}\n",
    "            elif row[0] == 'bind':\n",
    "                df[uid]['bind'] = True\n",
    "            elif row[0] == 'move':\n",
    "                uid = int(row[1])\n",
    "                x = int(row[2])\n",
    "                y = int(row[3])\n",
    "                z = int(row[4])\n",
    "                df[uid]['p'].append((x,y,z))\n",
    "    # cast to numpy.array\n",
    "    for uid in df:\n",
    "        df[uid]['p'] = np.array(df[uid]['p'])\n",
    "    return df "
   ]
  },
  {
   "cell_type": "code",
   "execution_count": null,
   "metadata": {},
   "outputs": [],
   "source": [
    "# it can take a long time\n",
    "df = read_dat('dla.dat')"
   ]
  },
  {
   "cell_type": "code",
   "execution_count": null,
   "metadata": {},
   "outputs": [],
   "source": [
    "# list of uid that were binded\n",
    "B = []\n",
    "for uid in df:\n",
    "    if df[uid]['bind']:\n",
    "        B.append(uid)\n",
    "print('B=',B)"
   ]
  },
  {
   "cell_type": "code",
   "execution_count": null,
   "metadata": {},
   "outputs": [],
   "source": [
    "# check dist between two consecutive positions\n",
    "d = {}\n",
    "for uid in df:\n",
    "    P = df[uid]['p'] # positions\n",
    "    d[uid] = np.zeros(len(P)-1, dtype=int)\n",
    "    for i in range(0, len(P) - 1):\n",
    "        d[uid][i] = np.linalg.norm(P[i+1] - P[i])"
   ]
  },
  {
   "cell_type": "code",
   "execution_count": null,
   "metadata": {},
   "outputs": [],
   "source": [
    "for uid in df:\n",
    "    for i in d[uid]:\n",
    "        if i > 1:\n",
    "            print(uid)\n",
    "            break"
   ]
  },
  {
   "cell_type": "code",
   "execution_count": null,
   "metadata": {},
   "outputs": [],
   "source": [
    "np.zeros(3, dtype=int)"
   ]
  },
  {
   "cell_type": "code",
   "execution_count": null,
   "metadata": {},
   "outputs": [],
   "source": [
    "Dmin, Dmax = [], []\n",
    "p0 = np.array(df[0]['p'][0])\n",
    "for uid in df:\n",
    "    dmin = np.inf    \n",
    "    dmax = 0\n",
    "    P = np.array(df[uid]['p'])\n",
    "    for p in P:\n",
    "        d = norm(p - p0)\n",
    "        if d > dmax:\n",
    "            dmax = d\n",
    "        if d < dmin:\n",
    "            dmin = d\n",
    "    Dmin.append(dmin)\n",
    "    Dmax.append(dmax)\n",
    "D = {'uid':np.arange(len(Dmin)), 'dmin':Dmin, 'dmax':Dmax}"
   ]
  },
  {
   "cell_type": "code",
   "execution_count": null,
   "metadata": {},
   "outputs": [],
   "source": [
    "ax = sns.lineplot(x=D['uid'], y=D['dmin'])\n",
    "#ax = sns.lineplot(x=D['uid'], y=D['dmax'])"
   ]
  },
  {
   "cell_type": "code",
   "execution_count": null,
   "metadata": {},
   "outputs": [],
   "source": []
  }
 ],
 "metadata": {
  "interpreter": {
   "hash": "586ad1ed5c97141e2437e681efbf1ec0adcd17d830cf5af2ca3d2819e743e158"
  },
  "kernelspec": {
   "display_name": "Python 3 (ipykernel)",
   "language": "python",
   "name": "python3"
  },
  "language_info": {
   "codemirror_mode": {
    "name": "ipython",
    "version": 3
   },
   "file_extension": ".py",
   "mimetype": "text/x-python",
   "name": "python",
   "nbconvert_exporter": "python",
   "pygments_lexer": "ipython3",
   "version": "3.9.7"
  }
 },
 "nbformat": 4,
 "nbformat_minor": 4
}

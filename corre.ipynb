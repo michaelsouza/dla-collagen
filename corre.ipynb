{
 "cells": [
  {
   "cell_type": "code",
   "execution_count": 3,
   "metadata": {},
   "outputs": [],
   "source": [
    "import numpy as np\n",
    "\n",
    "V = []\n",
    "with open('./files/teste2d_2.txt') as fid:\n",
    "    for row in fid:\n",
    "        h = np.zeros(2)\n",
    "        row = row.split()\n",
    "        h[0] = int(row[2])\n",
    "        h[1] = int(row[4])\n",
    "        V.append(h)\n",
    "\n",
    "#print(V)\n",
    "n = len(V)\n",
    "D = []\n",
    "for i, a in enumerate(V):\n",
    "    for j, b in enumerate(V):\n",
    "        D.append(np.abs(a[0] - b[0]) + np.abs(a[1] - b[1]))\n",
    "\n",
    "C, k = np.unique(D[:], return_counts=True)\n",
    "C = C / n"
   ]
  },
  {
   "cell_type": "code",
   "execution_count": 5,
   "metadata": {},
   "outputs": [
    {
     "data": {
      "text/plain": [
       "[<matplotlib.lines.Line2D at 0x7fea316aba90>]"
      ]
     },
     "execution_count": 5,
     "metadata": {},
     "output_type": "execute_result"
    },
    {
     "data": {
      "image/png": "[encoded data removed]",
      "text/plain": [
       "<Figure size 432x288 with 1 Axes>"
      ]
     },
     "metadata": {
      "needs_background": "light"
     },
     "output_type": "display_data"
    }
   ],
   "source": [
    "import matplotlib.pyplot as plt\n",
    "\n",
    "plt.plot(k,C, 'ro')"
   ]
  }
 ],
 "metadata": {
  "kernelspec": {
   "display_name": "Python 3.7.6 ('base')",
   "language": "python",
   "name": "python3"
  },
  "language_info": {
   "codemirror_mode": {
    "name": "ipython",
    "version": 3
   },
   "file_extension": ".py",
   "mimetype": "text/x-python",
   "name": "python",
   "nbconvert_exporter": "python",
   "pygments_lexer": "ipython3",
   "version": "3.7.6"
  },
  "orig_nbformat": 4,
  "vscode": {
   "interpreter": {
    "hash": "bdae8ebc0151ec65c4f1198b193fec26fb9b849a179ab75edca17b99fd707516"
   }
  }
 },
 "nbformat": 4,
 "nbformat_minor": 2
}

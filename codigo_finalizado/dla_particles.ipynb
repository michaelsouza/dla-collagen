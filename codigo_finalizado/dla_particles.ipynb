{
 "cells": [
  {
   "cell_type": "code",
   "execution_count": 9,
   "metadata": {},
   "outputs": [],
   "source": [
    "import os\n",
    "\n",
    "folder_path = '/home/robert/Datas/Zurik_030124/'\n",
    "# Get a list of all .dat files in the folder\n",
    "dat_files = [file for file in os.listdir(folder_path) if file.endswith(\".dat\")]"
   ]
  },
  {
   "cell_type": "code",
   "execution_count": 10,
   "metadata": {},
   "outputs": [
    {
     "data": {
      "text/plain": [
       "['dla_mode_s_ts_32_nb_30000_seed_10015_.dat',\n",
       " 'dla_mode_s_ts_10000_nb_30000_seed_10810_.dat',\n",
       " 'dla_mode_s_ts_10000_nb_30000_seed_10795_.dat',\n",
       " 'dla_mode_s_ts_32_nb_30000_seed_10000_.dat',\n",
       " 'dla_mode_s_ts_32_nb_30000_seed_10075_.dat',\n",
       " 'dla_mode_s_ts_10000_nb_30000_seed_10885_.dat',\n",
       " 'dla_mode_s_ts_32_nb_30000_seed_10060_.dat',\n",
       " 'dla_mode_s_ts_32_nb_30000_seed_10135_.dat',\n",
       " 'dla_mode_s_ts_10000_nb_30000_seed_10840_.dat',\n",
       " 'dla_mode_s_ts_32_nb_30000_seed_10090_.dat',\n",
       " 'dla_mode_s_ts_10000_nb_30000_seed_10855_.dat',\n",
       " 'dla_mode_s_ts_32_nb_30000_seed_10120_.dat',\n",
       " 'dla_mode_s_ts_10000_nb_30000_seed_10870_.dat',\n",
       " 'dla_mode_s_ts_10000_nb_30000_seed_10780_.dat',\n",
       " 'dla_mode_s_ts_32_nb_30000_seed_10030_.dat',\n",
       " 'dla_mode_s_ts_10000_nb_30000_seed_10825_.dat',\n",
       " 'dla_mode_s_ts_10000_nb_30000_seed_10900_.dat',\n",
       " 'dla_mode_s_ts_10000_nb_30000_seed_10915_.dat',\n",
       " 'dla_mode_s_ts_32_nb_30000_seed_10045_.dat',\n",
       " 'dla_mode_s_ts_32_nb_30000_seed_10105_.dat']"
      ]
     },
     "execution_count": 10,
     "metadata": {},
     "output_type": "execute_result"
    }
   ],
   "source": [
    "dat_files"
   ]
  },
  {
   "cell_type": "code",
   "execution_count": 11,
   "metadata": {},
   "outputs": [],
   "source": [
    "import re\n",
    "\n",
    "def extract_ts_and_seed(filename):\n",
    "    # Use regular expressions to extract 'ts' and 'seed' from the filename\n",
    "    match = re.match(r\"dla_mode_s_ts_(\\d+)_.*seed_(\\d+)_.*\\.dat\", filename)\n",
    "    if match:\n",
    "        ts = match.group(1)\n",
    "        seed = match.group(2)\n",
    "        return ts, seed\n",
    "    return None, None\n",
    "\n",
    "def get_new_filename(filename):\n",
    "    ts, seed = extract_ts_and_seed(filename)\n",
    "    if ts and seed:\n",
    "        return f\"ts_{ts}_seed_{seed}.dat\"\n",
    "    return None\n",
    "\n",
    "# Example usage\n",
    "original_filename = \"dla_mode_s_ts_128_nb_30000_seed_3850_.dat\"\n",
    "\n",
    "new_filename = get_new_filename(original_filename)"
   ]
  },
  {
   "cell_type": "code",
   "execution_count": 12,
   "metadata": {},
   "outputs": [
    {
     "data": {
      "text/plain": [
       "'ts_128_seed_3850.dat'"
      ]
     },
     "execution_count": 12,
     "metadata": {},
     "output_type": "execute_result"
    }
   ],
   "source": [
    "new_filename"
   ]
  },
  {
   "cell_type": "code",
   "execution_count": 14,
   "metadata": {},
   "outputs": [
    {
     "name": "stdout",
     "output_type": "stream",
     "text": [
      "ts_32_seed_10015.dat\n",
      "/home/robert/Datas/Zurik_030124/Ext/ts_32_seed_10015.dat\n",
      "ts_10000_seed_10810.dat\n",
      "/home/robert/Datas/Zurik_030124/Ext/ts_10000_seed_10810.dat\n",
      "ts_10000_seed_10795.dat\n",
      "/home/robert/Datas/Zurik_030124/Ext/ts_10000_seed_10795.dat\n",
      "ts_32_seed_10000.dat\n",
      "/home/robert/Datas/Zurik_030124/Ext/ts_32_seed_10000.dat\n",
      "ts_32_seed_10075.dat\n",
      "/home/robert/Datas/Zurik_030124/Ext/ts_32_seed_10075.dat\n",
      "ts_10000_seed_10885.dat\n",
      "/home/robert/Datas/Zurik_030124/Ext/ts_10000_seed_10885.dat\n",
      "ts_32_seed_10060.dat\n",
      "/home/robert/Datas/Zurik_030124/Ext/ts_32_seed_10060.dat\n",
      "ts_32_seed_10135.dat\n",
      "/home/robert/Datas/Zurik_030124/Ext/ts_32_seed_10135.dat\n",
      "ts_10000_seed_10840.dat\n",
      "/home/robert/Datas/Zurik_030124/Ext/ts_10000_seed_10840.dat\n",
      "ts_32_seed_10090.dat\n",
      "/home/robert/Datas/Zurik_030124/Ext/ts_32_seed_10090.dat\n",
      "ts_10000_seed_10855.dat\n",
      "/home/robert/Datas/Zurik_030124/Ext/ts_10000_seed_10855.dat\n",
      "ts_32_seed_10120.dat\n",
      "/home/robert/Datas/Zurik_030124/Ext/ts_32_seed_10120.dat\n",
      "ts_10000_seed_10870.dat\n",
      "/home/robert/Datas/Zurik_030124/Ext/ts_10000_seed_10870.dat\n",
      "ts_10000_seed_10780.dat\n",
      "/home/robert/Datas/Zurik_030124/Ext/ts_10000_seed_10780.dat\n",
      "ts_32_seed_10030.dat\n",
      "/home/robert/Datas/Zurik_030124/Ext/ts_32_seed_10030.dat\n",
      "ts_10000_seed_10825.dat\n",
      "/home/robert/Datas/Zurik_030124/Ext/ts_10000_seed_10825.dat\n",
      "ts_10000_seed_10900.dat\n",
      "/home/robert/Datas/Zurik_030124/Ext/ts_10000_seed_10900.dat\n",
      "ts_10000_seed_10915.dat\n",
      "/home/robert/Datas/Zurik_030124/Ext/ts_10000_seed_10915.dat\n",
      "ts_32_seed_10045.dat\n",
      "/home/robert/Datas/Zurik_030124/Ext/ts_32_seed_10045.dat\n",
      "ts_32_seed_10105.dat\n",
      "/home/robert/Datas/Zurik_030124/Ext/ts_32_seed_10105.dat\n"
     ]
    }
   ],
   "source": [
    "new_folder = '/home/robert/Datas/Zurik_030124/Ext/'\n",
    "for i in dat_files[:]:\n",
    "\n",
    "    new_filename = get_new_filename(i)\n",
    "    print(new_filename)\n",
    "    fn = new_folder + new_filename\n",
    "    print(fn)\n",
    "    filep = folder_path + i\n",
    "    with open (fn, \"w\") as fid:\n",
    "        with open('%s'%filep, 'r') as fid2:\n",
    "            #fid.write('id uid x y z\\n')\n",
    "            for row in fid2:\n",
    "                if 'uid:' in row:\n",
    "                    row = row.split()\n",
    "                    id = int(row[1])\n",
    "                    x = int(row[2])\n",
    "                    y = int(row[3])\n",
    "                    z = int(row[4])\n",
    "                    for i in range(0,18):\n",
    "                        #print('ok')\n",
    "                        fid.write('uid %d %d %d %d\\n' %(id, x, y+i, z))"
   ]
  }
 ],
 "metadata": {
  "kernelspec": {
   "display_name": "Python 3.8.10 64-bit",
   "language": "python",
   "name": "python3"
  },
  "language_info": {
   "codemirror_mode": {
    "name": "ipython",
    "version": 3
   },
   "file_extension": ".py",
   "mimetype": "text/x-python",
   "name": "python",
   "nbconvert_exporter": "python",
   "pygments_lexer": "ipython3",
   "version": "3.11.6"
  },
  "orig_nbformat": 4,
  "vscode": {
   "interpreter": {
    "hash": "31f2aee4e71d21fbe5cf8b01ff0e069b9275f58929596ceb00d14d90e3e16cd6"
   }
  }
 },
 "nbformat": 4,
 "nbformat_minor": 2
}

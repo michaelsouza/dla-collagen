{
 "cells": [
  {
   "cell_type": "code",
   "execution_count": 7,
   "metadata": {},
   "outputs": [],
   "source": [
    "import matplotlib.pyplot as plt"
   ]
  },
  {
   "cell_type": "code",
   "execution_count": 8,
   "metadata": {},
   "outputs": [
    {
     "name": "stdout",
     "output_type": "stream",
     "text": [
      "-1053\n",
      "1272\n"
     ]
    }
   ],
   "source": [
    "##search center of fiber \n",
    "ymin = ymax = 0\n",
    "with open('mode_s_ts_1_nb_10000_seed_37_.dat') as fid:\n",
    "    for row in fid.readlines():\n",
    "        row = row.split()\n",
    "        y = int(row[3])\n",
    "        if ymin > y:\n",
    "            ymin = y\n",
    "        if ymax < y:\n",
    "            ymax = y\n",
    "\n",
    "print(ymin)\n",
    "print(ymax)"
   ]
  },
  {
   "cell_type": "code",
   "execution_count": 12,
   "metadata": {},
   "outputs": [
    {
     "name": "stdout",
     "output_type": "stream",
     "text": [
      "110\n",
      "legth: 2325\n"
     ]
    },
    {
     "data": {
      "image/png": "[encoded data removed]",
      "text/plain": [
       "<Figure size 432x288 with 1 Axes>"
      ]
     },
     "metadata": {
      "needs_background": "light"
     },
     "output_type": "display_data"
    }
   ],
   "source": [
    "##Section Cross\n",
    "med = round((ymin + ymax)/2)\n",
    "leght = abs(ymin) + abs(ymax)\n",
    "print(med)\n",
    "print(\"legth: %d\" %leght)\n",
    "\n",
    "with open('mode_s_ts_1_nb_10000_seed_37_.dat') as fid:\n",
    "    for row in fid.readlines():\n",
    "        row = row.split()\n",
    "        y = int(row[3])\n",
    "\n",
    "        if y == med:\n",
    "            plt.plot(int(row[2]), int(row[4]),'rs')\n",
    "\n",
    "plt.show()\n"
   ]
  },
  {
   "cell_type": "code",
   "execution_count": null,
   "metadata": {},
   "outputs": [],
   "source": []
  }
 ],
 "metadata": {
  "kernelspec": {
   "display_name": "Python 3.8.10 64-bit",
   "language": "python",
   "name": "python3"
  },
  "language_info": {
   "codemirror_mode": {
    "name": "ipython",
    "version": 3
   },
   "file_extension": ".py",
   "mimetype": "text/x-python",
   "name": "python",
   "nbconvert_exporter": "python",
   "pygments_lexer": "ipython3",
   "version": "3.8.10"
  },
  "orig_nbformat": 4,
  "vscode": {
   "interpreter": {
    "hash": "31f2aee4e71d21fbe5cf8b01ff0e069b9275f58929596ceb00d14d90e3e16cd6"
   }
  }
 },
 "nbformat": 4,
 "nbformat_minor": 2
}

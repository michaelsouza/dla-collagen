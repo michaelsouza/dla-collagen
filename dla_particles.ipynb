{
 "cells": [
  {
   "cell_type": "code",
   "execution_count": 1,
   "metadata": {},
   "outputs": [],
   "source": [
    "with open (\"mode_s_ts_1_nb_10000_seed_37_.dat\", \"w\") as fid:\n",
    "    with open('dla_mode_s_ts_1_nb_10000_seed_37_.dat') as fid2:\n",
    "        for row in fid2.readlines():\n",
    "            if 'uid:' in row:\n",
    "                row = row.split()\n",
    "                id = int(row[1])\n",
    "                x = int(row[2])\n",
    "                y = int(row[3])\n",
    "                z = int(row[4])\n",
    "\n",
    "            for i in range(0,18):\n",
    "                fid.write('uid %d %d %d %d\\n' %(id, x, y+i, z))\n"
   ]
  }
 ],
 "metadata": {
  "kernelspec": {
   "display_name": "Python 3.8.10 64-bit",
   "language": "python",
   "name": "python3"
  },
  "language_info": {
   "codemirror_mode": {
    "name": "ipython",
    "version": 3
   },
   "file_extension": ".py",
   "mimetype": "text/x-python",
   "name": "python",
   "nbconvert_exporter": "python",
   "pygments_lexer": "ipython3",
   "version": "3.8.10"
  },
  "orig_nbformat": 4,
  "vscode": {
   "interpreter": {
    "hash": "31f2aee4e71d21fbe5cf8b01ff0e069b9275f58929596ceb00d14d90e3e16cd6"
   }
  }
 },
 "nbformat": 4,
 "nbformat_minor": 2
}

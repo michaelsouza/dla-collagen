{
 "cells": [
  {
   "cell_type": "code",
   "execution_count": 1,
   "metadata": {},
   "outputs": [],
   "source": [
    "with open (\"mode_s_ts_1_nb_10000_seed_37_.dat\", \"w\") as fid:\n",
    "    with open('dla_mode_s_ts_1_nb_10000_seed_37_.dat') as fid2:\n",
    "        for row in fid2.readlines():\n",
    "            if 'uid:' in row:\n",
    "                row = row.split()\n",
    "                id = int(row[1])\n",
    "                x = int(row[2])\n",
    "                y = int(row[3])\n",
    "                z = int(row[4])\n",
    "\n",
    "            for i in range(0,18):\n",
    "                fid.write('uid %d %d %d %d\\n' %(id, x, y+i, z))\n"
   ]
  },
  {
   "cell_type": "code",
   "execution_count": 21,
   "metadata": {},
   "outputs": [],
   "source": [
    "import time \n",
    "from IPython.display import clear_output"
   ]
  },
  {
   "cell_type": "code",
   "execution_count": 24,
   "metadata": {},
   "outputs": [
    {
     "name": "stdout",
     "output_type": "stream",
     "text": [
      "0\n",
      "1\n",
      "2\n",
      "3\n",
      "4\n"
     ]
    }
   ],
   "source": [
    "for i in range(5):\n",
    "    #clear_output(wait=True)\n",
    "    print(i)\n",
    "    time.sleep(1)"
   ]
  },
  {
   "cell_type": "code",
   "execution_count": 7,
   "metadata": {},
   "outputs": [],
   "source": [
    "def extend_fibers(fname):    \n",
    "    print('extending ', fname)\n",
    "    fout = fname.replace('/home/robert/Dropbox/data/files/particles/dla_','')\n",
    "    #fout = fname.replace('/files','./files/particles')\n",
    "    with open ('/home/robert/Dropbox/data/files/particles/%s'%fout, \"w\") as fid:\n",
    "        with open('%s'%fname, 'r') as fid2:\n",
    "            for row in fid2:\n",
    "                if 'uid:' in row:\n",
    "                    row = row.split()\n",
    "                    id = int(row[1])\n",
    "                    x = int(row[2])\n",
    "                    y = int(row[3])\n",
    "                    z = int(row[4])\n",
    "                    for i in range(0,18):\n",
    "                        #print('ok')\n",
    "                        fid.write('uid %d %d %d %d\\n' %(id, x, y+i, z))"
   ]
  },
  {
   "cell_type": "code",
   "execution_count": 9,
   "metadata": {},
   "outputs": [],
   "source": [
    "files = ['/home/robert/Dropbox/data/files/dla_mode_s_ts_1_nb_20000_seed_101_.dat','/home/robert/Dropbox/data/files/dla_mode_s_ts_10_nb_20000_seed_102_.dat', \"/home/robert/Dropbox/data/files/dla_mode_s_ts_100_nb_20000_seed_103_.dat\",\n",
    "         '/home/robert/Dropbox/data/files/dla_mode_s_ts_1000_nb_20000_seed_104_.dat', '/home/robert/Dropbox/data/files/dla_mode_s_ts_10000_nb_20000_seed_105_.dat']\n",
    "\n"
   ]
  },
  {
   "cell_type": "code",
   "execution_count": 20,
   "metadata": {},
   "outputs": [
    {
     "name": "stdout",
     "output_type": "stream",
     "text": [
      "/home/robert/Dropbox/data/files/dla_mode_s_ts_1_nb_20000_seed_101_.dat\n",
      "mode_s_ts_1_nb_20000_seed_101_.dat\n",
      "/home/robert/Dropbox/data/files/dla_mode_s_ts_10_nb_20000_seed_102_.dat\n",
      "mode_s_ts_10_nb_20000_seed_102_.dat\n",
      "/home/robert/Dropbox/data/files/dla_mode_s_ts_100_nb_20000_seed_103_.dat\n",
      "mode_s_ts_100_nb_20000_seed_103_.dat\n",
      "/home/robert/Dropbox/data/files/dla_mode_s_ts_1000_nb_20000_seed_104_.dat\n",
      "mode_s_ts_1000_nb_20000_seed_104_.dat\n",
      "/home/robert/Dropbox/data/files/dla_mode_s_ts_10000_nb_20000_seed_105_.dat\n",
      "mode_s_ts_10000_nb_20000_seed_105_.dat\n"
     ]
    }
   ],
   "source": [
    "for i in files:\n",
    "    print(i)\n",
    "    fout = i[36:]\n",
    "    print(fout)\n",
    "    with open ('/home/robert/Dropbox/data/files/particles/%s'%fout, \"w\") as fid:\n",
    "        with open('%s'%i, 'r') as fid2:\n",
    "            for row in fid2:\n",
    "                if 'uid:' in row:\n",
    "                    row = row.split()\n",
    "                    id = int(row[1])\n",
    "                    x = int(row[2])\n",
    "                    y = int(row[3])\n",
    "                    z = int(row[4])\n",
    "                    for i in range(0,18):\n",
    "                        #print('ok')\n",
    "                        fid.write('uid %d %d %d %d\\n' %(id, x, y+i, z))"
   ]
  }
 ],
 "metadata": {
  "kernelspec": {
   "display_name": "Python 3.8.10 64-bit",
   "language": "python",
   "name": "python3"
  },
  "language_info": {
   "codemirror_mode": {
    "name": "ipython",
    "version": 3
   },
   "file_extension": ".py",
   "mimetype": "text/x-python",
   "name": "python",
   "nbconvert_exporter": "python",
   "pygments_lexer": "ipython3",
   "version": "3.8.10"
  },
  "orig_nbformat": 4,
  "vscode": {
   "interpreter": {
    "hash": "31f2aee4e71d21fbe5cf8b01ff0e069b9275f58929596ceb00d14d90e3e16cd6"
   }
  }
 },
 "nbformat": 4,
 "nbformat_minor": 2
}

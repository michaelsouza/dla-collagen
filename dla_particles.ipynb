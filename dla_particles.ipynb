{
 "cells": [
  {
   "cell_type": "code",
   "execution_count": null,
   "metadata": {},
   "outputs": [],
   "source": []
  },
  {
   "cell_type": "code",
   "execution_count": 1,
   "metadata": {},
   "outputs": [
    {
     "ename": "FileNotFoundError",
     "evalue": "[Errno 2] No such file or directory: 'dla_fast.dat'",
     "output_type": "error",
     "traceback": [
      "\u001b[0;31m---------------------------------------------------------------------------\u001b[0m",
      "\u001b[0;31mFileNotFoundError\u001b[0m                         Traceback (most recent call last)",
      "\u001b[1;32m/home/robert/gitrepos/dla-collagen/papers/ajhahah.ipynb Cell 1\u001b[0m in \u001b[0;36m<cell line: 2>\u001b[0;34m()\u001b[0m\n\u001b[1;32m      <a href='vscode-notebook-cell:/home/robert/gitrepos/dla-collagen/papers/ajhahah.ipynb#W0sZmlsZQ%3D%3D?line=2'>3</a>\u001b[0m fid\u001b[39m.\u001b[39mwrite(\u001b[39m'\u001b[39m\u001b[39m//+ \u001b[39m\u001b[39m\\n\u001b[39;00m\u001b[39m'\u001b[39m)\n\u001b[1;32m      <a href='vscode-notebook-cell:/home/robert/gitrepos/dla-collagen/papers/ajhahah.ipynb#W0sZmlsZQ%3D%3D?line=3'>4</a>\u001b[0m fid\u001b[39m.\u001b[39mwrite(\u001b[39m'\u001b[39m\u001b[39mSetFactory(\u001b[39m\u001b[39m\"\u001b[39m\u001b[39mOpenCASCADE\u001b[39m\u001b[39m\"\u001b[39m\u001b[39m); \u001b[39m\u001b[39m\\n\u001b[39;00m\u001b[39m'\u001b[39m)\n\u001b[0;32m----> <a href='vscode-notebook-cell:/home/robert/gitrepos/dla-collagen/papers/ajhahah.ipynb#W0sZmlsZQ%3D%3D?line=5'>6</a>\u001b[0m \u001b[39mwith\u001b[39;00m \u001b[39mopen\u001b[39;49m(\u001b[39m'\u001b[39;49m\u001b[39mdla_fast.dat\u001b[39;49m\u001b[39m'\u001b[39;49m) \u001b[39mas\u001b[39;00m fid2:\n\u001b[1;32m      <a href='vscode-notebook-cell:/home/robert/gitrepos/dla-collagen/papers/ajhahah.ipynb#W0sZmlsZQ%3D%3D?line=6'>7</a>\u001b[0m     \u001b[39mfor\u001b[39;00m row \u001b[39min\u001b[39;00m fid2\u001b[39m.\u001b[39mreadlines():\n\u001b[1;32m      <a href='vscode-notebook-cell:/home/robert/gitrepos/dla-collagen/papers/ajhahah.ipynb#W0sZmlsZQ%3D%3D?line=7'>8</a>\u001b[0m         \u001b[39mif\u001b[39;00m \u001b[39m'\u001b[39m\u001b[39muid\u001b[39m\u001b[39m'\u001b[39m \u001b[39min\u001b[39;00m row:\n",
      "\u001b[0;31mFileNotFoundError\u001b[0m: [Errno 2] No such file or directory: 'dla_fast.dat'"
     ]
    }
   ],
   "source": [
    "ts = 5\n",
    "with open(f'dla_particles_ts:{ts}.dat', 'w') as fid:\n",
    "    fid.write('//+ \\n')\n",
    "    fid.write('SetFactory(\"OpenCASCADE\"); \\n')\n",
    "    \n",
    "    with open(f'dla_fast_ts:{ts}.dat') as fid2:\n",
    "        for row in fid2.readlines():\n",
    "\n",
    "            if 'uid' in row:\n",
    "                row = row.split()\n",
    "                id = int(row[1])\n",
    "                x = int(row[2])\n",
    "                y = int(row[3])\n",
    "                z = int(row[4])\n",
    "                for i in range(0,18):\n",
    "\n",
    "                    fid.write('uid %d %d %d\\n' % (id, x, y + i, z))\n",
    "                "
   ]
  }
 ],
 "metadata": {
  "kernelspec": {
   "display_name": "Python 3.8.10 64-bit",
   "language": "python",
   "name": "python3"
  },
  "language_info": {
   "codemirror_mode": {
    "name": "ipython",
    "version": 3
   },
   "file_extension": ".py",
   "mimetype": "text/x-python",
   "name": "python",
   "nbconvert_exporter": "python",
   "pygments_lexer": "ipython3",
   "version": "3.8.10"
  },
  "orig_nbformat": 4,
  "vscode": {
   "interpreter": {
    "hash": "31f2aee4e71d21fbe5cf8b01ff0e069b9275f58929596ceb00d14d90e3e16cd6"
   }
  }
 },
 "nbformat": 4,
 "nbformat_minor": 2
}

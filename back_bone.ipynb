{
 "cells": [
  {
   "cell_type": "code",
   "execution_count": 318,
   "metadata": {},
   "outputs": [],
   "source": [
    "import numpy as np\n",
    "import os\n",
    "import matplotlib.pyplot as plt"
   ]
  },
  {
   "cell_type": "code",
   "execution_count": 602,
   "metadata": {},
   "outputs": [],
   "source": [
    "v = np.zeros(5)\n",
    "list = []\n",
    "with open(\"./files/particles/mode_n_ts_10000_nb_10000_seed_52_.dat\") as fid:\n",
    "    for row in fid:\n",
    "        row = row.split()\n",
    "\n",
    "        v = np.zeros(5)\n",
    "        if -8 <= int(row[2]) <=8:\n",
    "            if -8 <= int(row[4]) <=8:\n",
    "                if -100 <= int(row[3]) <=100:\n",
    "                    #print(row)\n",
    "                    v[0] = int(row[1])\n",
    "                    v[1] = int(row[2])\n",
    "                    v[2] = int(row[3])\n",
    "                    v[3] = int(row[4])\n",
    "                    v[4] = 0\n",
    "                    list.append(v.tolist())\n",
    "\n",
    "\n",
    "back_bone1 = list\n",
    "#print(back_bone1)\n",
    "np.savetxt('./testeback.txt',back_bone1,fmt='%f')"
   ]
  },
  {
   "cell_type": "code",
   "execution_count": 603,
   "metadata": {},
   "outputs": [],
   "source": [
    "with open(\"/home/robert/gitrepos/dla-collagen/back_bone_teste.txt\", 'w') as fid:\n",
    "    for i in back_bone1:\n",
    "        x = str(int(i[1]))\n",
    "        y = str(int(i[2]))\n",
    "        z = str(int(i[3]))\n",
    "        fid.write('%s %s %s \\n' %(x,y,z))"
   ]
  },
  {
   "cell_type": "code",
   "execution_count": 604,
   "metadata": {},
   "outputs": [],
   "source": [
    "def generate_all_neigh(new):\n",
    "    #Gera o vetor com 4 vizinhos de cada sítio\n",
    "    new1 = new.copy()\n",
    "    new2 = new.copy()\n",
    "    new3 = new.copy()\n",
    "    new4 = new.copy()\n",
    "\n",
    "    new1[:,0] = new1[:,0] + 1\n",
    "    new2[:,0] = new2[:,0] - 1\n",
    "    new3[:,2] = new3[:,2] + 1\n",
    "    new4[:,2] = new4[:,2] - 1\n",
    "\n",
    "    #Junta tudo em um array\n",
    "    new0 = np.vstack((new,new1))\n",
    "    new0 = np.vstack((new0,new2))\n",
    "    new0 = np.vstack((new0,new3))\n",
    "    new0 = np.vstack((new0,new4))\n",
    "    return new0"
   ]
  },
  {
   "cell_type": "code",
   "execution_count": 605,
   "metadata": {},
   "outputs": [],
   "source": [
    "def generate_back_bone(back_bone1,inicial, plus):\n",
    "\n",
    "    back_bone2 = []\n",
    "\n",
    "    back_bone1 = np.array(back_bone1).astype(int)\n",
    "\n",
    "    #Primeira camada\n",
    "    part = back_bone1[back_bone1[:,2] == inicial]\n",
    "    back_bone2 += part[:,1:-1].tolist()\n",
    "    part[:,-1] = part[:,-1]+plus\n",
    "\n",
    "    # Segunda Camada\n",
    "    check = part[:,1:-1]\n",
    "    check[:,1] = check[:,1]+plus\n",
    "    new = np.array([i.tolist() for i in check if(i.tolist() in back_bone1[:,1:-1].tolist())])\n",
    "    tempo = [part[:,-1].shape[0]]\n",
    "    \n",
    "    #Procura vizinhos\n",
    "    while(new.shape[0] !=0):\n",
    "\n",
    "        new0 = generate_all_neigh(new)\n",
    "\n",
    "        #Checa se cada sítio e cada vizinho está no lugar.\n",
    "        new0 = np.array([i.tolist() for i in new0 if(i.tolist() in back_bone1[:,1:-1].tolist())])\n",
    "\n",
    "        #Retirar os repetidos\n",
    "        final = []\n",
    "        for i in new0:\n",
    "            if(i.tolist() not in final):\n",
    "                final.append(i.tolist())\n",
    "        \n",
    "        new = np.array(final)\n",
    "        tempo.append(new.shape[0])\n",
    "        if(new.shape[0] !=0):\n",
    "            back_bone2 += new.tolist()\n",
    "            new[:,1] = new[:,1]+plus\n",
    "        \n",
    "    return back_bone2,tempo[:-1]"
   ]
  },
  {
   "cell_type": "code",
   "execution_count": 607,
   "metadata": {},
   "outputs": [],
   "source": [
    "back_bone1 = np.array(back_bone1).astype(int)\n",
    "back_bone,N = generate_back_bone(back_bone1,-100,+1)\n",
    "back_bone = [back_bone1[np.where(np.all(i == back_bone1[:,1:-1],axis = 1))[0]] for i in back_bone]\n",
    "back_bone = np.array([i[0].tolist() for i in back_bone])\n",
    "back_bone,N = generate_back_bone(back_bone,100,-1)\n",
    "back_bone = [back_bone1[np.where(np.all(i == back_bone1[:,1:-1],axis = 1))[0]] for i in back_bone]\n",
    "back_bone = np.array([i[0].tolist() for i in back_bone]).astype(int)"
   ]
  },
  {
   "cell_type": "code",
   "execution_count": 592,
   "metadata": {},
   "outputs": [],
   "source": [
    "def generate_probability(back_bone,F = 1,sigma_c = 1,m = 1):\n",
    "    ids = np.unique(back_bone[:,0],return_counts=True)[0].astype(int)\n",
    "    number = np.unique(back_bone[:,0],return_counts=True)[1].astype(int)\n",
    "    ids = ids[np.argsort(number)[::-1]]\n",
    "    number = number[np.argsort(number)[::-1]]\n",
    "    probabilidade = []\n",
    "    back_bone = back_bone.astype(int)\n",
    "    for id in ids:\n",
    "        sitio = np.array(back_bone[back_bone.astype(int)[:,0] == id].astype(int))[:,1:-1]\n",
    "        vizinhos = generate_all_neigh(sitio)\n",
    "        n = np.array([len(back_bone[back_bone[:,2] == i[1]]) for i in sitio])\n",
    "\n",
    "        n = F/n\n",
    "        sigma_ = np.mean(n)\n",
    "\n",
    "        n_ = len([i for i in vizinhos if(i.tolist() in back_bone[:,1:-1].tolist())]) - len(sitio)\n",
    "\n",
    "        P = (sigma_/n_*sigma_c)**m\n",
    "        probabilidade.append([id,P,len(sitio)])\n",
    "    probabilidade = np.array(probabilidade)\n",
    "    return probabilidade"
   ]
  },
  {
   "cell_type": "code",
   "execution_count": 593,
   "metadata": {},
   "outputs": [],
   "source": [
    "def remover(vetor,elemento):\n",
    "    a = np.arange(len(vetor))\n",
    "    a = a[vetor == elemento]\n",
    "    print(a)\n",
    "    return a"
   ]
  },
  {
   "cell_type": "code",
   "execution_count": 599,
   "metadata": {},
   "outputs": [
    {
     "data": {
      "text/plain": [
       "array([[ 237,   -4,  100,    4,    0],\n",
       "       [2213,   -2,  100,   -7,    0],\n",
       "       [3577,   -2,  100,   -5,    0],\n",
       "       ...,\n",
       "       [2660,    1, -100,   -8,    0],\n",
       "       [5179,    4, -100,    1,    0],\n",
       "       [ 979,   -5, -100,   -5,    0]])"
      ]
     },
     "execution_count": 599,
     "metadata": {},
     "output_type": "execute_result"
    }
   ],
   "source": [
    "back_bone"
   ]
  },
  {
   "cell_type": "code",
   "execution_count": 598,
   "metadata": {},
   "outputs": [
    {
     "name": "stdout",
     "output_type": "stream",
     "text": [
      "0\n",
      "[3331.0]\n",
      "10\n",
      "[3331.0, 3330.0]\n",
      "20\n",
      "[3331.0, 3330.0, 3321.0]\n",
      "30\n",
      "[3331.0, 3330.0, 3321.0, 3307.0]\n",
      "40\n",
      "[3331.0, 3330.0, 3321.0, 3307.0, 3255.0]\n",
      "50\n",
      "[3331.0, 3330.0, 3321.0, 3307.0, 3255.0, 3229.0]\n",
      "60\n",
      "[3331.0, 3330.0, 3321.0, 3307.0, 3255.0, 3229.0, 3210.0]\n",
      "70\n",
      "[3331.0, 3330.0, 3321.0, 3307.0, 3255.0, 3229.0, 3210.0, 3181.0]\n",
      "80\n",
      "[3331.0, 3330.0, 3321.0, 3307.0, 3255.0, 3229.0, 3210.0, 3181.0, 3127.0]\n",
      "90\n",
      "[3331.0, 3330.0, 3321.0, 3307.0, 3255.0, 3229.0, 3210.0, 3181.0, 3127.0, 3078.0]\n",
      "100\n"
     ]
    },
    {
     "name": "stderr",
     "output_type": "stream",
     "text": [
      "/home/robert/anaconda3/lib/python3.7/site-packages/ipykernel_launcher.py:18: RuntimeWarning: divide by zero encountered in double_scalars\n"
     ]
    },
    {
     "name": "stdout",
     "output_type": "stream",
     "text": [
      "[3331.0, 3330.0, 3321.0, 3307.0, 3255.0, 3229.0, 3210.0, 3181.0, 3127.0, 3078.0, 2981.0]\n"
     ]
    }
   ],
   "source": [
    "t = []\n",
    "back_bone1 = np.copy(back_bone)\n",
    "for F in range(0,110,10):\n",
    "    \n",
    "    print(F)\n",
    "    probabilidade = generate_probability(back_bone1,F,sigma_c = 1,m = 2)\n",
    "    remove_ = probabilidade[probabilidade[:,1] >= 1][:,0]\n",
    "    probabilidade = probabilidade[probabilidade[:,1] < 1]\n",
    "\n",
    "    for i in remove_:\n",
    "        back_bone1 = back_bone1[back_bone1[:,0] != i]\n",
    "    t.append(np.sum(probabilidade[:,-1]))\n",
    "    print(t)\n",
    "t = np.array(t)"
   ]
  },
  {
   "cell_type": "code",
   "execution_count": 597,
   "metadata": {},
   "outputs": [
    {
     "data": {
      "text/plain": [
       "array([3331., 3330., 3321., 3307., 3255., 3229., 3210., 3181., 3127.,\n",
       "       3078., 2981.])"
      ]
     },
     "execution_count": 597,
     "metadata": {},
     "output_type": "execute_result"
    }
   ],
   "source": [
    "t"
   ]
  },
  {
   "cell_type": "code",
   "execution_count": 596,
   "metadata": {},
   "outputs": [
    {
     "data": {
      "image/png": "[encoded data removed]",
      "text/plain": [
       "<Figure size 432x288 with 1 Axes>"
      ]
     },
     "metadata": {
      "needs_background": "light"
     },
     "output_type": "display_data"
    }
   ],
   "source": [
    "plt.plot(np.array(range(0,110,10)),t/t[0])\n",
    "plt.show()"
   ]
  },
  {
   "cell_type": "code",
   "execution_count": 443,
   "metadata": {},
   "outputs": [],
   "source": [
    "backbone = back_bone.astype(int)"
   ]
  },
  {
   "cell_type": "code",
   "execution_count": 448,
   "metadata": {},
   "outputs": [
    {
     "data": {
      "text/plain": [
       "array([[182.,   0.,  10.,  -5.,   0.],\n",
       "       [ 22.,   1.,  10.,   2.,   0.],\n",
       "       [  4.,   1.,  10.,  -1.,   0.],\n",
       "       [ 37.,   0.,  10.,   1.,   0.],\n",
       "       [ 53.,   0.,  10.,  -4.,   0.],\n",
       "       [  8.,   2.,  10.,  -1.,   0.],\n",
       "       [156.,   3.,  10.,  -1.,   0.],\n",
       "       [ 89.,  -1.,  10.,   1.,   0.],\n",
       "       [125.,   3.,  10.,  -2.,   0.],\n",
       "       [ 30.,   1.,  10.,   3.,   0.]])"
      ]
     },
     "execution_count": 448,
     "metadata": {},
     "output_type": "execute_result"
    }
   ],
   "source": [
    "back_bone[back_bone[:,2] == 10]"
   ]
  },
  {
   "cell_type": "code",
   "execution_count": 406,
   "metadata": {},
   "outputs": [
    {
     "data": {
      "text/plain": [
       "[array([], shape=(0, 5), dtype=float64),\n",
       " array([], shape=(0, 5), dtype=float64),\n",
       " array([], shape=(0, 5), dtype=float64),\n",
       " array([], shape=(0, 5), dtype=float64),\n",
       " array([], shape=(0, 5), dtype=float64),\n",
       " array([], shape=(0, 5), dtype=float64),\n",
       " array([], shape=(0, 5), dtype=float64),\n",
       " array([], shape=(0, 5), dtype=float64),\n",
       " array([], shape=(0, 5), dtype=float64),\n",
       " array([], shape=(0, 5), dtype=float64),\n",
       " array([], shape=(0, 5), dtype=float64),\n",
       " array([], shape=(0, 5), dtype=float64),\n",
       " array([], shape=(0, 5), dtype=float64),\n",
       " array([], shape=(0, 5), dtype=float64),\n",
       " array([], shape=(0, 5), dtype=float64),\n",
       " array([], shape=(0, 5), dtype=float64),\n",
       " array([], shape=(0, 5), dtype=float64),\n",
       " array([], shape=(0, 5), dtype=float64),\n",
       " array([], shape=(0, 5), dtype=float64),\n",
       " array([], shape=(0, 5), dtype=float64),\n",
       " array([], shape=(0, 5), dtype=float64),\n",
       " array([], shape=(0, 5), dtype=float64),\n",
       " array([], shape=(0, 5), dtype=float64),\n",
       " array([], shape=(0, 5), dtype=float64),\n",
       " array([], shape=(0, 5), dtype=float64),\n",
       " array([], shape=(0, 5), dtype=float64),\n",
       " array([], shape=(0, 5), dtype=float64),\n",
       " array([], shape=(0, 5), dtype=float64),\n",
       " array([], shape=(0, 5), dtype=float64),\n",
       " array([], shape=(0, 5), dtype=float64),\n",
       " array([], shape=(0, 5), dtype=float64),\n",
       " array([], shape=(0, 5), dtype=float64),\n",
       " array([], shape=(0, 5), dtype=float64),\n",
       " array([], shape=(0, 5), dtype=float64),\n",
       " array([], shape=(0, 5), dtype=float64),\n",
       " array([], shape=(0, 5), dtype=float64),\n",
       " array([], shape=(0, 5), dtype=float64),\n",
       " array([], shape=(0, 5), dtype=float64),\n",
       " array([], shape=(0, 5), dtype=float64),\n",
       " array([], shape=(0, 5), dtype=float64),\n",
       " array([], shape=(0, 5), dtype=float64),\n",
       " array([], shape=(0, 5), dtype=float64),\n",
       " array([], shape=(0, 5), dtype=float64),\n",
       " array([], shape=(0, 5), dtype=float64),\n",
       " array([], shape=(0, 5), dtype=float64),\n",
       " array([], shape=(0, 5), dtype=float64),\n",
       " array([], shape=(0, 5), dtype=float64),\n",
       " array([], shape=(0, 5), dtype=float64),\n",
       " array([], shape=(0, 5), dtype=float64),\n",
       " array([], shape=(0, 5), dtype=float64),\n",
       " array([], shape=(0, 5), dtype=float64),\n",
       " array([], shape=(0, 5), dtype=float64),\n",
       " array([], shape=(0, 5), dtype=float64),\n",
       " array([], shape=(0, 5), dtype=float64),\n",
       " array([], shape=(0, 5), dtype=float64),\n",
       " array([], shape=(0, 5), dtype=float64),\n",
       " array([], shape=(0, 5), dtype=float64),\n",
       " array([], shape=(0, 5), dtype=float64),\n",
       " array([], shape=(0, 5), dtype=float64),\n",
       " array([], shape=(0, 5), dtype=float64),\n",
       " array([[11.,  1.,  1.,  1.,  0.]]),\n",
       " array([], shape=(0, 5), dtype=float64),\n",
       " array([], shape=(0, 5), dtype=float64),\n",
       " array([], shape=(0, 5), dtype=float64),\n",
       " array([], shape=(0, 5), dtype=float64),\n",
       " array([], shape=(0, 5), dtype=float64),\n",
       " array([], shape=(0, 5), dtype=float64),\n",
       " array([], shape=(0, 5), dtype=float64),\n",
       " array([], shape=(0, 5), dtype=float64),\n",
       " array([], shape=(0, 5), dtype=float64),\n",
       " array([], shape=(0, 5), dtype=float64),\n",
       " array([], shape=(0, 5), dtype=float64),\n",
       " array([], shape=(0, 5), dtype=float64),\n",
       " array([], shape=(0, 5), dtype=float64),\n",
       " array([], shape=(0, 5), dtype=float64),\n",
       " array([], shape=(0, 5), dtype=float64),\n",
       " array([], shape=(0, 5), dtype=float64),\n",
       " array([], shape=(0, 5), dtype=float64),\n",
       " array([], shape=(0, 5), dtype=float64),\n",
       " array([], shape=(0, 5), dtype=float64),\n",
       " array([], shape=(0, 5), dtype=float64),\n",
       " array([], shape=(0, 5), dtype=float64),\n",
       " array([], shape=(0, 5), dtype=float64),\n",
       " array([[0., 0., 0., 0., 0.]]),\n",
       " array([], shape=(0, 5), dtype=float64),\n",
       " array([], shape=(0, 5), dtype=float64),\n",
       " array([], shape=(0, 5), dtype=float64),\n",
       " array([], shape=(0, 5), dtype=float64),\n",
       " array([], shape=(0, 5), dtype=float64),\n",
       " array([], shape=(0, 5), dtype=float64),\n",
       " array([], shape=(0, 5), dtype=float64),\n",
       " array([], shape=(0, 5), dtype=float64),\n",
       " array([], shape=(0, 5), dtype=float64),\n",
       " array([], shape=(0, 5), dtype=float64),\n",
       " array([], shape=(0, 5), dtype=float64),\n",
       " array([], shape=(0, 5), dtype=float64),\n",
       " array([], shape=(0, 5), dtype=float64),\n",
       " array([], shape=(0, 5), dtype=float64),\n",
       " array([], shape=(0, 5), dtype=float64),\n",
       " array([], shape=(0, 5), dtype=float64),\n",
       " array([], shape=(0, 5), dtype=float64),\n",
       " array([], shape=(0, 5), dtype=float64),\n",
       " array([], shape=(0, 5), dtype=float64),\n",
       " array([], shape=(0, 5), dtype=float64),\n",
       " array([], shape=(0, 5), dtype=float64),\n",
       " array([], shape=(0, 5), dtype=float64),\n",
       " array([], shape=(0, 5), dtype=float64),\n",
       " array([], shape=(0, 5), dtype=float64),\n",
       " array([], shape=(0, 5), dtype=float64),\n",
       " array([], shape=(0, 5), dtype=float64),\n",
       " array([], shape=(0, 5), dtype=float64),\n",
       " array([], shape=(0, 5), dtype=float64),\n",
       " array([], shape=(0, 5), dtype=float64),\n",
       " array([], shape=(0, 5), dtype=float64),\n",
       " array([], shape=(0, 5), dtype=float64),\n",
       " array([], shape=(0, 5), dtype=float64),\n",
       " array([], shape=(0, 5), dtype=float64),\n",
       " array([], shape=(0, 5), dtype=float64),\n",
       " array([], shape=(0, 5), dtype=float64),\n",
       " array([], shape=(0, 5), dtype=float64),\n",
       " array([], shape=(0, 5), dtype=float64),\n",
       " array([], shape=(0, 5), dtype=float64),\n",
       " array([], shape=(0, 5), dtype=float64),\n",
       " array([], shape=(0, 5), dtype=float64),\n",
       " array([], shape=(0, 5), dtype=float64),\n",
       " array([], shape=(0, 5), dtype=float64),\n",
       " array([], shape=(0, 5), dtype=float64),\n",
       " array([], shape=(0, 5), dtype=float64),\n",
       " array([], shape=(0, 5), dtype=float64),\n",
       " array([], shape=(0, 5), dtype=float64),\n",
       " array([], shape=(0, 5), dtype=float64),\n",
       " array([], shape=(0, 5), dtype=float64),\n",
       " array([], shape=(0, 5), dtype=float64),\n",
       " array([], shape=(0, 5), dtype=float64),\n",
       " array([], shape=(0, 5), dtype=float64),\n",
       " array([], shape=(0, 5), dtype=float64),\n",
       " array([], shape=(0, 5), dtype=float64),\n",
       " array([], shape=(0, 5), dtype=float64),\n",
       " array([], shape=(0, 5), dtype=float64),\n",
       " array([], shape=(0, 5), dtype=float64),\n",
       " array([], shape=(0, 5), dtype=float64),\n",
       " array([], shape=(0, 5), dtype=float64),\n",
       " array([], shape=(0, 5), dtype=float64),\n",
       " array([], shape=(0, 5), dtype=float64),\n",
       " array([], shape=(0, 5), dtype=float64),\n",
       " array([], shape=(0, 5), dtype=float64),\n",
       " array([], shape=(0, 5), dtype=float64),\n",
       " array([], shape=(0, 5), dtype=float64),\n",
       " array([], shape=(0, 5), dtype=float64),\n",
       " array([], shape=(0, 5), dtype=float64),\n",
       " array([], shape=(0, 5), dtype=float64),\n",
       " array([], shape=(0, 5), dtype=float64),\n",
       " array([], shape=(0, 5), dtype=float64),\n",
       " array([], shape=(0, 5), dtype=float64),\n",
       " array([], shape=(0, 5), dtype=float64),\n",
       " array([], shape=(0, 5), dtype=float64),\n",
       " array([], shape=(0, 5), dtype=float64),\n",
       " array([], shape=(0, 5), dtype=float64),\n",
       " array([], shape=(0, 5), dtype=float64),\n",
       " array([], shape=(0, 5), dtype=float64),\n",
       " array([], shape=(0, 5), dtype=float64),\n",
       " array([], shape=(0, 5), dtype=float64),\n",
       " array([], shape=(0, 5), dtype=float64),\n",
       " array([], shape=(0, 5), dtype=float64),\n",
       " array([], shape=(0, 5), dtype=float64),\n",
       " array([], shape=(0, 5), dtype=float64),\n",
       " array([], shape=(0, 5), dtype=float64),\n",
       " array([], shape=(0, 5), dtype=float64),\n",
       " array([], shape=(0, 5), dtype=float64),\n",
       " array([], shape=(0, 5), dtype=float64),\n",
       " array([[1708.,    8.,    8.,    8.,    0.]]),\n",
       " array([], shape=(0, 5), dtype=float64),\n",
       " array([], shape=(0, 5), dtype=float64),\n",
       " array([], shape=(0, 5), dtype=float64),\n",
       " array([], shape=(0, 5), dtype=float64),\n",
       " array([], shape=(0, 5), dtype=float64),\n",
       " array([], shape=(0, 5), dtype=float64),\n",
       " array([], shape=(0, 5), dtype=float64),\n",
       " array([], shape=(0, 5), dtype=float64),\n",
       " array([], shape=(0, 5), dtype=float64),\n",
       " array([], shape=(0, 5), dtype=float64),\n",
       " array([], shape=(0, 5), dtype=float64),\n",
       " array([], shape=(0, 5), dtype=float64),\n",
       " array([], shape=(0, 5), dtype=float64),\n",
       " array([], shape=(0, 5), dtype=float64),\n",
       " array([], shape=(0, 5), dtype=float64),\n",
       " array([], shape=(0, 5), dtype=float64),\n",
       " array([], shape=(0, 5), dtype=float64),\n",
       " array([], shape=(0, 5), dtype=float64),\n",
       " array([], shape=(0, 5), dtype=float64),\n",
       " array([], shape=(0, 5), dtype=float64),\n",
       " array([], shape=(0, 5), dtype=float64),\n",
       " array([], shape=(0, 5), dtype=float64),\n",
       " array([], shape=(0, 5), dtype=float64),\n",
       " array([], shape=(0, 5), dtype=float64),\n",
       " array([], shape=(0, 5), dtype=float64),\n",
       " array([], shape=(0, 5), dtype=float64),\n",
       " array([], shape=(0, 5), dtype=float64),\n",
       " array([], shape=(0, 5), dtype=float64),\n",
       " array([], shape=(0, 5), dtype=float64),\n",
       " array([], shape=(0, 5), dtype=float64),\n",
       " array([], shape=(0, 5), dtype=float64),\n",
       " array([], shape=(0, 5), dtype=float64),\n",
       " array([], shape=(0, 5), dtype=float64),\n",
       " array([], shape=(0, 5), dtype=float64),\n",
       " array([], shape=(0, 5), dtype=float64),\n",
       " array([], shape=(0, 5), dtype=float64),\n",
       " array([], shape=(0, 5), dtype=float64),\n",
       " array([], shape=(0, 5), dtype=float64),\n",
       " array([], shape=(0, 5), dtype=float64),\n",
       " array([], shape=(0, 5), dtype=float64),\n",
       " array([], shape=(0, 5), dtype=float64),\n",
       " array([], shape=(0, 5), dtype=float64),\n",
       " array([], shape=(0, 5), dtype=float64),\n",
       " array([], shape=(0, 5), dtype=float64),\n",
       " array([], shape=(0, 5), dtype=float64),\n",
       " array([], shape=(0, 5), dtype=float64),\n",
       " array([], shape=(0, 5), dtype=float64),\n",
       " array([], shape=(0, 5), dtype=float64),\n",
       " array([], shape=(0, 5), dtype=float64),\n",
       " array([], shape=(0, 5), dtype=float64),\n",
       " array([], shape=(0, 5), dtype=float64),\n",
       " array([], shape=(0, 5), dtype=float64),\n",
       " array([], shape=(0, 5), dtype=float64),\n",
       " array([], shape=(0, 5), dtype=float64),\n",
       " array([], shape=(0, 5), dtype=float64),\n",
       " array([], shape=(0, 5), dtype=float64),\n",
       " array([], shape=(0, 5), dtype=float64),\n",
       " array([], shape=(0, 5), dtype=float64),\n",
       " array([], shape=(0, 5), dtype=float64),\n",
       " array([], shape=(0, 5), dtype=float64),\n",
       " array([], shape=(0, 5), dtype=float64),\n",
       " array([], shape=(0, 5), dtype=float64),\n",
       " array([], shape=(0, 5), dtype=float64),\n",
       " array([], shape=(0, 5), dtype=float64),\n",
       " array([], shape=(0, 5), dtype=float64),\n",
       " array([], shape=(0, 5), dtype=float64),\n",
       " array([], shape=(0, 5), dtype=float64),\n",
       " array([], shape=(0, 5), dtype=float64),\n",
       " array([], shape=(0, 5), dtype=float64),\n",
       " array([], shape=(0, 5), dtype=float64),\n",
       " array([], shape=(0, 5), dtype=float64),\n",
       " array([], shape=(0, 5), dtype=float64),\n",
       " array([], shape=(0, 5), dtype=float64),\n",
       " array([], shape=(0, 5), dtype=float64),\n",
       " array([], shape=(0, 5), dtype=float64),\n",
       " array([], shape=(0, 5), dtype=float64),\n",
       " array([], shape=(0, 5), dtype=float64),\n",
       " array([], shape=(0, 5), dtype=float64),\n",
       " array([], shape=(0, 5), dtype=float64),\n",
       " array([], shape=(0, 5), dtype=float64),\n",
       " array([], shape=(0, 5), dtype=float64),\n",
       " array([], shape=(0, 5), dtype=float64),\n",
       " array([], shape=(0, 5), dtype=float64),\n",
       " array([], shape=(0, 5), dtype=float64),\n",
       " array([], shape=(0, 5), dtype=float64),\n",
       " array([], shape=(0, 5), dtype=float64),\n",
       " array([], shape=(0, 5), dtype=float64),\n",
       " array([], shape=(0, 5), dtype=float64),\n",
       " array([], shape=(0, 5), dtype=float64),\n",
       " array([], shape=(0, 5), dtype=float64),\n",
       " array([], shape=(0, 5), dtype=float64),\n",
       " array([], shape=(0, 5), dtype=float64),\n",
       " array([], shape=(0, 5), dtype=float64),\n",
       " array([], shape=(0, 5), dtype=float64),\n",
       " array([], shape=(0, 5), dtype=float64),\n",
       " array([], shape=(0, 5), dtype=float64)]"
      ]
     },
     "execution_count": 406,
     "metadata": {},
     "output_type": "execute_result"
    }
   ],
   "source": []
  },
  {
   "cell_type": "code",
   "execution_count": null,
   "metadata": {},
   "outputs": [],
   "source": [
    "with open(\"/home/robert/gitrepos/dla-collagen/back_bone_teste.txt\", 'w') as fid:\n",
    "    for i in back_bone1:\n",
    "        x = str(int(i[1]))\n",
    "        y = str(int(i[2]))\n",
    "        z = str(int(i[3]))\n",
    "        fid.write('%s %s %s \\n' %(x,y,z))"
   ]
  },
  {
   "cell_type": "code",
   "execution_count": null,
   "metadata": {},
   "outputs": [],
   "source": [
    "np.savetxt(\"./back.txt\", back_bone[:,1:-1],fmt = \"%d\", delimiter=' ')"
   ]
  },
  {
   "cell_type": "code",
   "execution_count": null,
   "metadata": {},
   "outputs": [
    {
     "data": {
      "text/plain": [
       "array([[ 237,   -4,  100,    4,    0],\n",
       "       [2213,   -2,  100,   -7,    0],\n",
       "       [3577,   -2,  100,   -5,    0],\n",
       "       ...,\n",
       "       [2660,    1, -100,   -8,    0],\n",
       "       [5179,    4, -100,    1,    0],\n",
       "       [ 979,   -5, -100,   -5,    0]])"
      ]
     },
     "execution_count": 310,
     "metadata": {},
     "output_type": "execute_result"
    }
   ],
   "source": [
    "back_bone"
   ]
  },
  {
   "cell_type": "code",
   "execution_count": null,
   "metadata": {},
   "outputs": [],
   "source": [
    "##\n",
    "\n",
    "F = 1\n",
    "stress_i = np.array(201)\n"
   ]
  },
  {
   "cell_type": "code",
   "execution_count": null,
   "metadata": {},
   "outputs": [
    {
     "data": {
      "text/plain": [
       "array([[  1, -99,   0],\n",
       "       [  0, -99,   0],\n",
       "       [ -1, -99,   1],\n",
       "       [ -1, -99,  -4],\n",
       "       [ -2, -99,  -4],\n",
       "       [  0, -99,  -4],\n",
       "       [  0, -99,  -3],\n",
       "       [  4, -99,  -2],\n",
       "       [ -4, -99,   1],\n",
       "       [ -3, -99,   1],\n",
       "       [  5, -99,  -2],\n",
       "       [ -5, -99,   0],\n",
       "       [ -3, -99,   0],\n",
       "       [  2, -99,   2],\n",
       "       [ -6, -99,   0],\n",
       "       [ -7, -99,   0],\n",
       "       [  3, -99,  -7],\n",
       "       [ -7, -99,  -1],\n",
       "       [  5, -99,  -1],\n",
       "       [  5, -99,   0],\n",
       "       [  6, -99,  -1],\n",
       "       [  0, -99,   6],\n",
       "       [ -3, -99,  -4],\n",
       "       [  1, -99,  -4],\n",
       "       [ -4, -99,  -4],\n",
       "       [  6, -99,  -5],\n",
       "       [  7, -99,  -5],\n",
       "       [ -5, -99,  -4],\n",
       "       [  0, -99,   7],\n",
       "       [ -4, -99,  -5],\n",
       "       [  6, -99,  -4],\n",
       "       [  9, -99,  -7],\n",
       "       [  7, -99,  -4],\n",
       "       [  5, -99,   6],\n",
       "       [  9, -99,  -8],\n",
       "       [ -1, -99,   7],\n",
       "       [  8, -99,  -8],\n",
       "       [ -2, -99,   7],\n",
       "       [  5, -99,   7],\n",
       "       [ -7, -99,   4],\n",
       "       [  8, -99,  -4],\n",
       "       [  7, -99,  -1],\n",
       "       [  6, -99,   7],\n",
       "       [  3, -99,  -8],\n",
       "       [  4, -99,   7],\n",
       "       [  2, -99,  -8],\n",
       "       [  1, -99,  -6],\n",
       "       [  5, -99,   1]])"
      ]
     },
     "execution_count": 193,
     "metadata": {},
     "output_type": "execute_result"
    }
   ],
   "source": []
  },
  {
   "cell_type": "code",
   "execution_count": null,
   "metadata": {},
   "outputs": [],
   "source": []
  },
  {
   "cell_type": "code",
   "execution_count": null,
   "metadata": {},
   "outputs": [],
   "source": []
  },
  {
   "cell_type": "code",
   "execution_count": null,
   "metadata": {},
   "outputs": [
    {
     "data": {
      "text/plain": [
       "(47, 3)"
      ]
     },
     "execution_count": 226,
     "metadata": {},
     "output_type": "execute_result"
    }
   ],
   "source": []
  },
  {
   "cell_type": "code",
   "execution_count": null,
   "metadata": {},
   "outputs": [
    {
     "name": "stdout",
     "output_type": "stream",
     "text": [
      "tamanho back_bone1: 8431\n",
      "45\n",
      "45\n"
     ]
    },
    {
     "ename": "KeyboardInterrupt",
     "evalue": "",
     "output_type": "error",
     "traceback": [
      "\u001b[0;31m---------------------------------------------------------------------------\u001b[0m",
      "\u001b[0;31mKeyboardInterrupt\u001b[0m                         Traceback (most recent call last)",
      "\u001b[0;32m<ipython-input-61-edae93e830b0>\u001b[0m in \u001b[0;36m<module>\u001b[0;34m\u001b[0m\n\u001b[1;32m     46\u001b[0m                     \u001b[0mlayer\u001b[0m\u001b[0;34m.\u001b[0m\u001b[0mappend\u001b[0m\u001b[0;34m(\u001b[0m\u001b[0mneigh1\u001b[0m\u001b[0;34m)\u001b[0m\u001b[0;34m\u001b[0m\u001b[0;34m\u001b[0m\u001b[0m\n\u001b[1;32m     47\u001b[0m \u001b[0;34m\u001b[0m\u001b[0m\n\u001b[0;32m---> 48\u001b[0;31m         \u001b[0;32mif\u001b[0m \u001b[0mneigh2\u001b[0m\u001b[0;34m[\u001b[0m\u001b[0;36m1\u001b[0m\u001b[0;34m]\u001b[0m \u001b[0;34m==\u001b[0m \u001b[0mj\u001b[0m\u001b[0;34m[\u001b[0m\u001b[0;36m1\u001b[0m\u001b[0;34m]\u001b[0m\u001b[0;34m:\u001b[0m\u001b[0;34m\u001b[0m\u001b[0;34m\u001b[0m\u001b[0m\n\u001b[0m\u001b[1;32m     49\u001b[0m             \u001b[0;32mif\u001b[0m \u001b[0mneigh2\u001b[0m\u001b[0;34m[\u001b[0m\u001b[0;36m2\u001b[0m\u001b[0;34m]\u001b[0m \u001b[0;34m==\u001b[0m \u001b[0mj\u001b[0m\u001b[0;34m[\u001b[0m\u001b[0;36m2\u001b[0m\u001b[0;34m]\u001b[0m\u001b[0;34m:\u001b[0m\u001b[0;34m\u001b[0m\u001b[0;34m\u001b[0m\u001b[0m\n\u001b[1;32m     50\u001b[0m                 \u001b[0;32mif\u001b[0m \u001b[0mneigh2\u001b[0m\u001b[0;34m[\u001b[0m\u001b[0;36m3\u001b[0m\u001b[0;34m]\u001b[0m \u001b[0;34m==\u001b[0m \u001b[0mj\u001b[0m\u001b[0;34m[\u001b[0m\u001b[0;36m3\u001b[0m\u001b[0;34m]\u001b[0m\u001b[0;34m:\u001b[0m\u001b[0;34m\u001b[0m\u001b[0;34m\u001b[0m\u001b[0m\n",
      "\u001b[0;31mKeyboardInterrupt\u001b[0m: "
     ]
    }
   ],
   "source": [
    "#print(len(back_bone1))\n",
    "back_bone2 = []\n",
    "print('tamanho back_bone1: %d' %len(back_bone1))\n",
    "\n",
    "### Encotra todas as part. da primeira camada(y = -100) e marca como conectado\n",
    "for j in back_bone1:\n",
    "            \n",
    "    if j[2] == -100:\n",
    "        #print(entrou)\n",
    "        part = [j[0], j[1], j[2], j[3], j[4] +1]\n",
    "        back_bone2.append(part)\n",
    "        #print(back_bone2)\n",
    "\n",
    "    else:\n",
    "        continue\n",
    "\n",
    "### Encontra os vizinhos na segunda camada das part. marcadas na primeira camada\n",
    "layer = []\n",
    "plane = []\n",
    "for i in back_bone2:\n",
    "    part = [i[0], i[1], i[2]  + 1, i[3], i[4]]\n",
    "    \n",
    "    for j in back_bone1:\n",
    "\n",
    "        if part[1] == j[1] and part[2] == j[2] and part[3] == j[3]:\n",
    "            part[4] = 1\n",
    "            layer.append(part)\n",
    "        \n",
    "print(len(layer))\n",
    "\n",
    "### Encontra os vizinhos das part. na segunda camada\n",
    "print(len(layer))\n",
    "for i in layer:\n",
    "    neigh1 = [i[0], i[1] + 1, i[2], i[3], i[4]]\n",
    "    neigh2 = [i[0], i[1] - 1, i[2], i[3], i[4]]\n",
    "    neigh3 = [i[0], i[1], i[2], i[3] + 1, i[4]]\n",
    "    neigh4 = [i[0], i[1], i[2], i[3] - 1, i[4]]\n",
    "\n",
    "\n",
    "    for j in back_bone1:\n",
    "\n",
    "        if neigh1[1] == j[1]:\n",
    "            if neigh1[2] == j[2]:\n",
    "                if neigh1[3] == j[3]:\n",
    "                    neigh1[4] = 1\n",
    "                    layer.append(neigh1)\n",
    "\n",
    "        if neigh2[1] == j[1]:\n",
    "            if neigh2[2] == j[2]:\n",
    "                if neigh2[3] == j[3]:\n",
    "                    neigh2[4] = 1\n",
    "                    layer.append(neigh2)\n",
    "\n",
    "        if neigh3[1] == j[1]:\n",
    "            if neigh3[2] == j[2]:\n",
    "                if neigh3[3] == j[3]:\n",
    "                    neigh3[4] = 1\n",
    "                    layer.append(neigh3)\n",
    "\n",
    "        if neigh4[1] == j[1]:\n",
    "            if neigh4[2] == j[2]:\n",
    "                if neigh4[3] == j[3]:\n",
    "                    neigh4[4] = 1\n",
    "                    layer.append(neigh4)\n",
    "\n",
    "\n",
    "\n",
    "        \n",
    "\n",
    "#print('plane: %d' %len(plane))\n",
    "print(len(layer))\n",
    "### Adiciona as part. conectadas da segunda camada no back_bone2\n"
   ]
  },
  {
   "cell_type": "code",
   "execution_count": null,
   "metadata": {},
   "outputs": [
    {
     "name": "stdout",
     "output_type": "stream",
     "text": [
      "no\n"
     ]
    }
   ],
   "source": [
    "for i in back_bone1:\n",
    "    if i[2] == -99:\n",
    "        #print(i)\n",
    "        #print(type(i))\n",
    "        c = 0\n",
    "a = [112, -1, -98, 1, 0]\n",
    "if a in back_bone1:\n",
    "    print(\"ok\")\n",
    "else:\n",
    "    print('no')\n"
   ]
  },
  {
   "cell_type": "code",
   "execution_count": null,
   "metadata": {},
   "outputs": [
    {
     "name": "stdout",
     "output_type": "stream",
     "text": [
      "[51.0, 0.0, -99.0, 0.0, 1]\n",
      "[51.0, 0.0, -99.0, 0.0, 0.0]\n"
     ]
    }
   ],
   "source": [
    "part = [51.0, 0.0, -99.0, 0.0, 1]\n",
    "for i in back_bone1:\n",
    "    if part[1] == i[1] and part[2] == i[2] and part[3] == i[3]:\n",
    "        print(part)\n",
    "        print(i)"
   ]
  },
  {
   "cell_type": "code",
   "execution_count": null,
   "metadata": {},
   "outputs": [
    {
     "name": "stdout",
     "output_type": "stream",
     "text": [
      "[51.0, 0.0, -99.0, 0.0, 0.0]\n",
      "[112.0, -2.0, -99.0, 1.0, 0.0]\n",
      "[136.0, -2.0, -99.0, -4.0, 0.0]\n",
      "[138.0, -3.0, -99.0, -4.0, 0.0]\n",
      "[144.0, -1.0, -99.0, -4.0, 0.0]\n",
      "[171.0, -1.0, -99.0, -3.0, 0.0]\n",
      "[196.0, 3.0, -99.0, -2.0, 0.0]\n",
      "[248.0, -5.0, -99.0, 1.0, 0.0]\n",
      "[287.0, 4.0, -99.0, -2.0, 0.0]\n",
      "[302.0, -6.0, -99.0, 0.0, 0.0]\n",
      "[313.0, -4.0, -99.0, 0.0, 0.0]\n",
      "[338.0, 1.0, -99.0, 2.0, 0.0]\n",
      "[355.0, 4.0, -99.0, -5.0, 0.0]\n",
      "[414.0, -7.0, -99.0, 0.0, 0.0]\n",
      "[417.0, -8.0, -99.0, 0.0, 0.0]\n",
      "[420.0, 2.0, -99.0, -7.0, 0.0]\n",
      "[437.0, -8.0, -99.0, -1.0, 0.0]\n",
      "[438.0, 4.0, -99.0, -1.0, 0.0]\n",
      "[458.0, 4.0, -99.0, 0.0, 0.0]\n",
      "[470.0, 5.0, -99.0, -1.0, 0.0]\n",
      "[549.0, -4.0, -99.0, 5.0, 0.0]\n",
      "[553.0, -1.0, -99.0, 6.0, 0.0]\n",
      "[584.0, -4.0, -99.0, -4.0, 0.0]\n",
      "[674.0, 0.0, -99.0, -4.0, 0.0]\n",
      "[698.0, -5.0, -99.0, -4.0, 0.0]\n",
      "[704.0, 5.0, -99.0, -5.0, 0.0]\n",
      "[758.0, 6.0, -99.0, -5.0, 0.0]\n",
      "[764.0, -6.0, -99.0, -4.0, 0.0]\n",
      "[905.0, -1.0, -99.0, 7.0, 0.0]\n",
      "[979.0, -5.0, -99.0, -5.0, 0.0]\n",
      "[1003.0, 5.0, -99.0, -4.0, 0.0]\n",
      "[1046.0, 8.0, -99.0, -7.0, 0.0]\n",
      "[1180.0, 4.0, -99.0, 6.0, 0.0]\n",
      "[1217.0, 8.0, -99.0, -8.0, 0.0]\n",
      "[1233.0, -2.0, -99.0, 7.0, 0.0]\n",
      "[1332.0, -7.0, -99.0, 4.0, 0.0]\n",
      "[1396.0, 7.0, -99.0, -8.0, 0.0]\n",
      "[1460.0, -3.0, -99.0, 7.0, 0.0]\n",
      "[1461.0, 4.0, -99.0, 7.0, 0.0]\n",
      "[1478.0, -8.0, -99.0, 4.0, 0.0]\n",
      "[1635.0, 7.0, -99.0, -4.0, 0.0]\n",
      "[1716.0, 6.0, -99.0, -1.0, 0.0]\n",
      "[1747.0, 5.0, -99.0, 7.0, 0.0]\n",
      "[2159.0, 2.0, -99.0, -8.0, 0.0]\n",
      "[2395.0, 3.0, -99.0, 7.0, 0.0]\n",
      "[2660.0, 1.0, -99.0, -8.0, 0.0]\n",
      "[3449.0, 0.0, -99.0, -6.0, 0.0]\n",
      "[5179.0, 4.0, -99.0, 1.0, 0.0]\n"
     ]
    }
   ],
   "source": [
    "for i in back_bone1:\n",
    "\n",
    "    if i[2] == -99:\n",
    "        print(i)"
   ]
  },
  {
   "cell_type": "code",
   "execution_count": null,
   "metadata": {},
   "outputs": [
    {
     "name": "stdout",
     "output_type": "stream",
     "text": [
      "[[51.0, 0.0, -99.0, 0.0, 0], [67.0, -1.0, -99.0, 0.0, 0], [112.0, -2.0, -99.0, 1.0, 0], [136.0, -2.0, -99.0, -4.0, 0], [138.0, -3.0, -99.0, -4.0, 0], [144.0, -1.0, -99.0, -4.0, 0], [171.0, -1.0, -99.0, -3.0, 0], [196.0, 3.0, -99.0, -2.0, 0], [248.0, -5.0, -99.0, 1.0, 0], [271.0, -4.0, -99.0, 1.0, 0], [287.0, 4.0, -99.0, -2.0, 0], [302.0, -6.0, -99.0, 0.0, 0], [313.0, -4.0, -99.0, 0.0, 0], [338.0, 1.0, -99.0, 2.0, 0], [414.0, -7.0, -99.0, 0.0, 0], [417.0, -8.0, -99.0, 0.0, 0], [420.0, 2.0, -99.0, -7.0, 0], [437.0, -8.0, -99.0, -1.0, 0], [438.0, 4.0, -99.0, -1.0, 0], [458.0, 4.0, -99.0, 0.0, 0], [470.0, 5.0, -99.0, -1.0, 0], [553.0, -1.0, -99.0, 6.0, 0], [584.0, -4.0, -99.0, -4.0, 0], [674.0, 0.0, -99.0, -4.0, 0], [698.0, -5.0, -99.0, -4.0, 0], [704.0, 5.0, -99.0, -5.0, 0], [758.0, 6.0, -99.0, -5.0, 0], [764.0, -6.0, -99.0, -4.0, 0], [905.0, -1.0, -99.0, 7.0, 0], [979.0, -5.0, -99.0, -5.0, 0], [1003.0, 5.0, -99.0, -4.0, 0], [1046.0, 8.0, -99.0, -7.0, 0], [1065.0, 6.0, -99.0, -4.0, 0], [1180.0, 4.0, -99.0, 6.0, 0], [1217.0, 8.0, -99.0, -8.0, 0], [1233.0, -2.0, -99.0, 7.0, 0], [1396.0, 7.0, -99.0, -8.0, 0], [1460.0, -3.0, -99.0, 7.0, 0], [1461.0, 4.0, -99.0, 7.0, 0], [1478.0, -8.0, -99.0, 4.0, 0], [1635.0, 7.0, -99.0, -4.0, 0], [1716.0, 6.0, -99.0, -1.0, 0], [1747.0, 5.0, -99.0, 7.0, 0], [2159.0, 2.0, -99.0, -8.0, 0], [2395.0, 3.0, -99.0, 7.0, 0], [2660.0, 1.0, -99.0, -8.0, 0], [3449.0, 0.0, -99.0, -6.0, 0], [5179.0, 4.0, -99.0, 1.0, 0], [51.0, 0.0, -99.0, 0.0, 0], [112.0, -2.0, -99.0, 1.0, 0], [136.0, -2.0, -99.0, -4.0, 0], [138.0, -3.0, -99.0, -4.0, 0], [144.0, -1.0, -99.0, -4.0, 0], [171.0, -1.0, -99.0, -3.0, 0], [196.0, 3.0, -99.0, -2.0, 0], [248.0, -5.0, -99.0, 1.0, 0], [287.0, 4.0, -99.0, -2.0, 0], [302.0, -6.0, -99.0, 0.0, 0], [313.0, -4.0, -99.0, 0.0, 0], [338.0, 1.0, -99.0, 2.0, 0], [414.0, -7.0, -99.0, 0.0, 0], [417.0, -8.0, -99.0, 0.0, 0], [420.0, 2.0, -99.0, -7.0, 0], [437.0, -8.0, -99.0, -1.0, 0], [438.0, 4.0, -99.0, -1.0, 0], [458.0, 4.0, -99.0, 0.0, 0], [470.0, 5.0, -99.0, -1.0, 0], [553.0, -1.0, -99.0, 6.0, 0], [584.0, -4.0, -99.0, -4.0, 0], [674.0, 0.0, -99.0, -4.0, 0], [698.0, -5.0, -99.0, -4.0, 0], [704.0, 5.0, -99.0, -5.0, 0], [758.0, 6.0, -99.0, -5.0, 0], [764.0, -6.0, -99.0, -4.0, 0], [905.0, -1.0, -99.0, 7.0, 0], [979.0, -5.0, -99.0, -5.0, 0], [1003.0, 5.0, -99.0, -4.0, 0], [1046.0, 8.0, -99.0, -7.0, 0], [1180.0, 4.0, -99.0, 6.0, 0], [1217.0, 8.0, -99.0, -8.0, 0], [1233.0, -2.0, -99.0, 7.0, 0], [1396.0, 7.0, -99.0, -8.0, 0], [1460.0, -3.0, -99.0, 7.0, 0], [1461.0, 4.0, -99.0, 7.0, 0], [1478.0, -8.0, -99.0, 4.0, 0], [1635.0, 7.0, -99.0, -4.0, 0], [1716.0, 6.0, -99.0, -1.0, 0], [1747.0, 5.0, -99.0, 7.0, 0], [2159.0, 2.0, -99.0, -8.0, 0], [2395.0, 3.0, -99.0, 7.0, 0], [2660.0, 1.0, -99.0, -8.0, 0], [3449.0, 0.0, -99.0, -6.0, 0], [5179.0, 4.0, -99.0, 1.0, 0], [51.0, 0.0, -98.0, 0.0, 0], [112.0, -2.0, -98.0, 1.0, 0], [136.0, -2.0, -98.0, -4.0, 0], [138.0, -3.0, -98.0, -4.0, 0], [144.0, -1.0, -98.0, -4.0, 0], [171.0, -1.0, -98.0, -3.0, 0], [196.0, 3.0, -98.0, -2.0, 0], [248.0, -5.0, -98.0, 1.0, 0], [287.0, 4.0, -98.0, -2.0, 0], [302.0, -6.0, -98.0, 0.0, 0], [338.0, 1.0, -98.0, 2.0, 0], [417.0, -8.0, -98.0, 0.0, 0], [420.0, 2.0, -98.0, -7.0, 0], [437.0, -8.0, -98.0, -1.0, 0], [438.0, 4.0, -98.0, -1.0, 0], [458.0, 4.0, -98.0, 0.0, 0], [470.0, 5.0, -98.0, -1.0, 0], [553.0, -1.0, -98.0, 6.0, 0], [584.0, -4.0, -98.0, -4.0, 0], [698.0, -5.0, -98.0, -4.0, 0], [704.0, 5.0, -98.0, -5.0, 0], [758.0, 6.0, -98.0, -5.0, 0], [764.0, -6.0, -98.0, -4.0, 0], [905.0, -1.0, -98.0, 7.0, 0], [979.0, -5.0, -98.0, -5.0, 0], [1003.0, 5.0, -98.0, -4.0, 0], [1046.0, 8.0, -98.0, -7.0, 0], [1180.0, 4.0, -98.0, 6.0, 0], [1217.0, 8.0, -98.0, -8.0, 0], [1233.0, -2.0, -98.0, 7.0, 0], [1461.0, 4.0, -98.0, 7.0, 0], [1478.0, -8.0, -98.0, 4.0, 0], [1635.0, 7.0, -98.0, -4.0, 0], [1716.0, 6.0, -98.0, -1.0, 0], [1747.0, 5.0, -98.0, 7.0, 0], [2395.0, 3.0, -98.0, 7.0, 0], [2660.0, 1.0, -98.0, -8.0, 0], [5179.0, 4.0, -98.0, 1.0, 0], [51.0, 0.0, -97.0, 0.0, 0], [112.0, -2.0, -97.0, 1.0, 0], [136.0, -2.0, -97.0, -4.0, 0], [138.0, -3.0, -97.0, -4.0, 0], [144.0, -1.0, -97.0, -4.0, 0], [171.0, -1.0, -97.0, -3.0, 0], [196.0, 3.0, -97.0, -2.0, 0], [248.0, -5.0, -97.0, 1.0, 0], [287.0, 4.0, -97.0, -2.0, 0], [302.0, -6.0, -97.0, 0.0, 0], [338.0, 1.0, -97.0, 2.0, 0], [417.0, -8.0, -97.0, 0.0, 0], [420.0, 2.0, -97.0, -7.0, 0], [437.0, -8.0, -97.0, -1.0, 0], [438.0, 4.0, -97.0, -1.0, 0], [458.0, 4.0, -97.0, 0.0, 0], [470.0, 5.0, -97.0, -1.0, 0], [698.0, -5.0, -97.0, -4.0, 0], [704.0, 5.0, -97.0, -5.0, 0], [758.0, 6.0, -97.0, -5.0, 0], [764.0, -6.0, -97.0, -4.0, 0], [905.0, -1.0, -97.0, 7.0, 0], [979.0, -5.0, -97.0, -5.0, 0], [1003.0, 5.0, -97.0, -4.0, 0], [1046.0, 8.0, -97.0, -7.0, 0], [1180.0, 4.0, -97.0, 6.0, 0], [1217.0, 8.0, -97.0, -8.0, 0], [1233.0, -2.0, -97.0, 7.0, 0], [1461.0, 4.0, -97.0, 7.0, 0], [1478.0, -8.0, -97.0, 4.0, 0], [1635.0, 7.0, -97.0, -4.0, 0], [1716.0, 6.0, -97.0, -1.0, 0], [1747.0, 5.0, -97.0, 7.0, 0], [2395.0, 3.0, -97.0, 7.0, 0], [2660.0, 1.0, -97.0, -8.0, 0], [5179.0, 4.0, -97.0, 1.0, 0], [51.0, 0.0, -96.0, 0.0, 0], [112.0, -2.0, -96.0, 1.0, 0], [136.0, -2.0, -96.0, -4.0, 0], [138.0, -3.0, -96.0, -4.0, 0], [144.0, -1.0, -96.0, -4.0, 0], [171.0, -1.0, -96.0, -3.0, 0], [196.0, 3.0, -96.0, -2.0, 0], [248.0, -5.0, -96.0, 1.0, 0], [302.0, -6.0, -96.0, 0.0, 0], [417.0, -8.0, -96.0, 0.0, 0], [420.0, 2.0, -96.0, -7.0, 0], [437.0, -8.0, -96.0, -1.0, 0], [438.0, 4.0, -96.0, -1.0, 0], [458.0, 4.0, -96.0, 0.0, 0], [470.0, 5.0, -96.0, -1.0, 0], [698.0, -5.0, -96.0, -4.0, 0], [704.0, 5.0, -96.0, -5.0, 0], [758.0, 6.0, -96.0, -5.0, 0], [764.0, -6.0, -96.0, -4.0, 0], [905.0, -1.0, -96.0, 7.0, 0], [979.0, -5.0, -96.0, -5.0, 0], [1180.0, 4.0, -96.0, 6.0, 0], [1217.0, 8.0, -96.0, -8.0, 0], [1233.0, -2.0, -96.0, 7.0, 0], [1461.0, 4.0, -96.0, 7.0, 0], [1478.0, -8.0, -96.0, 4.0, 0], [1635.0, 7.0, -96.0, -4.0, 0], [1716.0, 6.0, -96.0, -1.0, 0], [1747.0, 5.0, -96.0, 7.0, 0], [2395.0, 3.0, -96.0, 7.0, 0], [2660.0, 1.0, -96.0, -8.0, 0], [5179.0, 4.0, -96.0, 1.0, 0], [51.0, 0.0, -95.0, 0.0, 0], [112.0, -2.0, -95.0, 1.0, 0], [136.0, -2.0, -95.0, -4.0, 0], [138.0, -3.0, -95.0, -4.0, 0], [144.0, -1.0, -95.0, -4.0, 0], [171.0, -1.0, -95.0, -3.0, 0], [196.0, 3.0, -95.0, -2.0, 0], [248.0, -5.0, -95.0, 1.0, 0], [302.0, -6.0, -95.0, 0.0, 0], [417.0, -8.0, -95.0, 0.0, 0], [420.0, 2.0, -95.0, -7.0, 0], [437.0, -8.0, -95.0, -1.0, 0], [438.0, 4.0, -95.0, -1.0, 0], [458.0, 4.0, -95.0, 0.0, 0], [470.0, 5.0, -95.0, -1.0, 0], [698.0, -5.0, -95.0, -4.0, 0], [704.0, 5.0, -95.0, -5.0, 0], [758.0, 6.0, -95.0, -5.0, 0], [764.0, -6.0, -95.0, -4.0, 0], [905.0, -1.0, -95.0, 7.0, 0], [979.0, -5.0, -95.0, -5.0, 0], [1180.0, 4.0, -95.0, 6.0, 0], [1217.0, 8.0, -95.0, -8.0, 0], [1233.0, -2.0, -95.0, 7.0, 0], [1461.0, 4.0, -95.0, 7.0, 0], [1478.0, -8.0, -95.0, 4.0, 0], [1635.0, 7.0, -95.0, -4.0, 0], [1716.0, 6.0, -95.0, -1.0, 0], [1747.0, 5.0, -95.0, 7.0, 0], [2395.0, 3.0, -95.0, 7.0, 0], [2660.0, 1.0, -95.0, -8.0, 0], [5179.0, 4.0, -95.0, 1.0, 0], [112.0, -2.0, -94.0, 1.0, 0], [136.0, -2.0, -94.0, -4.0, 0], [138.0, -3.0, -94.0, -4.0, 0], [144.0, -1.0, -94.0, -4.0, 0], [171.0, -1.0, -94.0, -3.0, 0], [196.0, 3.0, -94.0, -2.0, 0], [248.0, -5.0, -94.0, 1.0, 0], [302.0, -6.0, -94.0, 0.0, 0], [420.0, 2.0, -94.0, -7.0, 0], [437.0, -8.0, -94.0, -1.0, 0], [438.0, 4.0, -94.0, -1.0, 0], [458.0, 4.0, -94.0, 0.0, 0], [470.0, 5.0, -94.0, -1.0, 0], [704.0, 5.0, -94.0, -5.0, 0], [758.0, 6.0, -94.0, -5.0, 0], [764.0, -6.0, -94.0, -4.0, 0], [905.0, -1.0, -94.0, 7.0, 0], [979.0, -5.0, -94.0, -5.0, 0], [1180.0, 4.0, -94.0, 6.0, 0], [1217.0, 8.0, -94.0, -8.0, 0], [1233.0, -2.0, -94.0, 7.0, 0], [1461.0, 4.0, -94.0, 7.0, 0], [1478.0, -8.0, -94.0, 4.0, 0], [1635.0, 7.0, -94.0, -4.0, 0], [1716.0, 6.0, -94.0, -1.0, 0], [1747.0, 5.0, -94.0, 7.0, 0], [2395.0, 3.0, -94.0, 7.0, 0], [112.0, -2.0, -93.0, 1.0, 0], [136.0, -2.0, -93.0, -4.0, 0], [138.0, -3.0, -93.0, -4.0, 0], [144.0, -1.0, -93.0, -4.0, 0], [171.0, -1.0, -93.0, -3.0, 0], [196.0, 3.0, -93.0, -2.0, 0], [248.0, -5.0, -93.0, 1.0, 0], [302.0, -6.0, -93.0, 0.0, 0], [420.0, 2.0, -93.0, -7.0, 0], [437.0, -8.0, -93.0, -1.0, 0], [438.0, 4.0, -93.0, -1.0, 0], [458.0, 4.0, -93.0, 0.0, 0], [470.0, 5.0, -93.0, -1.0, 0], [704.0, 5.0, -93.0, -5.0, 0], [758.0, 6.0, -93.0, -5.0, 0], [764.0, -6.0, -93.0, -4.0, 0], [905.0, -1.0, -93.0, 7.0, 0], [979.0, -5.0, -93.0, -5.0, 0], [1180.0, 4.0, -93.0, 6.0, 0], [1217.0, 8.0, -93.0, -8.0, 0], [1233.0, -2.0, -93.0, 7.0, 0], [1461.0, 4.0, -93.0, 7.0, 0], [1478.0, -8.0, -93.0, 4.0, 0], [1635.0, 7.0, -93.0, -4.0, 0], [1716.0, 6.0, -93.0, -1.0, 0], [1747.0, 5.0, -93.0, 7.0, 0], [2395.0, 3.0, -93.0, 7.0, 0], [112.0, -2.0, -92.0, 1.0, 0], [136.0, -2.0, -92.0, -4.0, 0], [138.0, -3.0, -92.0, -4.0, 0], [144.0, -1.0, -92.0, -4.0, 0], [196.0, 3.0, -92.0, -2.0, 0], [248.0, -5.0, -92.0, 1.0, 0], [302.0, -6.0, -92.0, 0.0, 0], [420.0, 2.0, -92.0, -7.0, 0], [437.0, -8.0, -92.0, -1.0, 0], [438.0, 4.0, -92.0, -1.0, 0], [458.0, 4.0, -92.0, 0.0, 0], [470.0, 5.0, -92.0, -1.0, 0], [704.0, 5.0, -92.0, -5.0, 0], [758.0, 6.0, -92.0, -5.0, 0], [764.0, -6.0, -92.0, -4.0, 0], [905.0, -1.0, -92.0, 7.0, 0], [979.0, -5.0, -92.0, -5.0, 0], [1180.0, 4.0, -92.0, 6.0, 0], [1217.0, 8.0, -92.0, -8.0, 0], [1233.0, -2.0, -92.0, 7.0, 0], [1478.0, -8.0, -92.0, 4.0, 0], [1635.0, 7.0, -92.0, -4.0, 0], [1716.0, 6.0, -92.0, -1.0, 0], [1747.0, 5.0, -92.0, 7.0, 0], [2395.0, 3.0, -92.0, 7.0, 0], [112.0, -2.0, -91.0, 1.0, 0], [136.0, -2.0, -91.0, -4.0, 0], [138.0, -3.0, -91.0, -4.0, 0], [144.0, -1.0, -91.0, -4.0, 0], [196.0, 3.0, -91.0, -2.0, 0], [248.0, -5.0, -91.0, 1.0, 0], [302.0, -6.0, -91.0, 0.0, 0], [420.0, 2.0, -91.0, -7.0, 0], [437.0, -8.0, -91.0, -1.0, 0], [438.0, 4.0, -91.0, -1.0, 0], [458.0, 4.0, -91.0, 0.0, 0], [470.0, 5.0, -91.0, -1.0, 0], [704.0, 5.0, -91.0, -5.0, 0], [758.0, 6.0, -91.0, -5.0, 0], [764.0, -6.0, -91.0, -4.0, 0], [905.0, -1.0, -91.0, 7.0, 0], [979.0, -5.0, -91.0, -5.0, 0], [1180.0, 4.0, -91.0, 6.0, 0], [1217.0, 8.0, -91.0, -8.0, 0], [1233.0, -2.0, -91.0, 7.0, 0], [1478.0, -8.0, -91.0, 4.0, 0], [1635.0, 7.0, -91.0, -4.0, 0], [1716.0, 6.0, -91.0, -1.0, 0], [1747.0, 5.0, -91.0, 7.0, 0], [2395.0, 3.0, -91.0, 7.0, 0], [112.0, -2.0, -90.0, 1.0, 0], [136.0, -2.0, -90.0, -4.0, 0], [138.0, -3.0, -90.0, -4.0, 0], [144.0, -1.0, -90.0, -4.0, 0], [196.0, 3.0, -90.0, -2.0, 0], [248.0, -5.0, -90.0, 1.0, 0], [420.0, 2.0, -90.0, -7.0, 0], [437.0, -8.0, -90.0, -1.0, 0], [438.0, 4.0, -90.0, -1.0, 0], [458.0, 4.0, -90.0, 0.0, 0], [470.0, 5.0, -90.0, -1.0, 0], [704.0, 5.0, -90.0, -5.0, 0], [758.0, 6.0, -90.0, -5.0, 0], [764.0, -6.0, -90.0, -4.0, 0], [905.0, -1.0, -90.0, 7.0, 0], [979.0, -5.0, -90.0, -5.0, 0], [1180.0, 4.0, -90.0, 6.0, 0], [1233.0, -2.0, -90.0, 7.0, 0], [1478.0, -8.0, -90.0, 4.0, 0], [1716.0, 6.0, -90.0, -1.0, 0], [1747.0, 5.0, -90.0, 7.0, 0], [2395.0, 3.0, -90.0, 7.0, 0], [112.0, -2.0, -89.0, 1.0, 0], [136.0, -2.0, -89.0, -4.0, 0], [138.0, -3.0, -89.0, -4.0, 0], [144.0, -1.0, -89.0, -4.0, 0], [196.0, 3.0, -89.0, -2.0, 0], [420.0, 2.0, -89.0, -7.0, 0], [437.0, -8.0, -89.0, -1.0, 0], [458.0, 4.0, -89.0, 0.0, 0], [470.0, 5.0, -89.0, -1.0, 0], [704.0, 5.0, -89.0, -5.0, 0], [758.0, 6.0, -89.0, -5.0, 0], [764.0, -6.0, -89.0, -4.0, 0], [905.0, -1.0, -89.0, 7.0, 0], [979.0, -5.0, -89.0, -5.0, 0], [1180.0, 4.0, -89.0, 6.0, 0], [1478.0, -8.0, -89.0, 4.0, 0], [1716.0, 6.0, -89.0, -1.0, 0], [2395.0, 3.0, -89.0, 7.0, 0], [112.0, -2.0, -88.0, 1.0, 0], [136.0, -2.0, -88.0, -4.0, 0], [138.0, -3.0, -88.0, -4.0, 0], [144.0, -1.0, -88.0, -4.0, 0], [196.0, 3.0, -88.0, -2.0, 0], [420.0, 2.0, -88.0, -7.0, 0], [437.0, -8.0, -88.0, -1.0, 0], [458.0, 4.0, -88.0, 0.0, 0], [470.0, 5.0, -88.0, -1.0, 0], [704.0, 5.0, -88.0, -5.0, 0], [758.0, 6.0, -88.0, -5.0, 0], [905.0, -1.0, -88.0, 7.0, 0], [979.0, -5.0, -88.0, -5.0, 0], [1180.0, 4.0, -88.0, 6.0, 0], [1478.0, -8.0, -88.0, 4.0, 0], [1716.0, 6.0, -88.0, -1.0, 0], [2395.0, 3.0, -88.0, 7.0, 0], [136.0, -2.0, -87.0, -4.0, 0], [138.0, -3.0, -87.0, -4.0, 0], [144.0, -1.0, -87.0, -4.0, 0], [196.0, 3.0, -87.0, -2.0, 0], [437.0, -8.0, -87.0, -1.0, 0], [458.0, 4.0, -87.0, 0.0, 0], [470.0, 5.0, -87.0, -1.0, 0], [704.0, 5.0, -87.0, -5.0, 0], [758.0, 6.0, -87.0, -5.0, 0], [905.0, -1.0, -87.0, 7.0, 0], [979.0, -5.0, -87.0, -5.0, 0], [1180.0, 4.0, -87.0, 6.0, 0], [1716.0, 6.0, -87.0, -1.0, 0], [2395.0, 3.0, -87.0, 7.0, 0], [136.0, -2.0, -86.0, -4.0, 0], [138.0, -3.0, -86.0, -4.0, 0], [196.0, 3.0, -86.0, -2.0, 0], [437.0, -8.0, -86.0, -1.0, 0], [470.0, 5.0, -86.0, -1.0, 0], [758.0, 6.0, -86.0, -5.0, 0], [905.0, -1.0, -86.0, 7.0, 0], [979.0, -5.0, -86.0, -5.0, 0], [1716.0, 6.0, -86.0, -1.0, 0], [2395.0, 3.0, -86.0, 7.0, 0], [136.0, -2.0, -85.0, -4.0, 0], [138.0, -3.0, -85.0, -4.0, 0], [196.0, 3.0, -85.0, -2.0, 0], [470.0, 5.0, -85.0, -1.0, 0], [905.0, -1.0, -85.0, 7.0, 0], [979.0, -5.0, -85.0, -5.0, 0], [1716.0, 6.0, -85.0, -1.0, 0], [136.0, -2.0, -84.0, -4.0, 0], [138.0, -3.0, -84.0, -4.0, 0], [196.0, 3.0, -84.0, -2.0, 0], [905.0, -1.0, -84.0, 7.0, 0], [136.0, -2.0, -83.0, -4.0, 0], [138.0, -3.0, -83.0, -4.0, 0], [196.0, 3.0, -83.0, -2.0, 0]]\n"
     ]
    }
   ],
   "source": [
    "#print(back_bone2)\n",
    "with open(\"/home/robert/gitrepos/dla-collagen/back_bone2_teste.txt\", 'w') as fid:\n",
    "    for i in back_bone2:\n",
    "        x = str(int(i[1]))\n",
    "        y = str(int(i[2]))\n",
    "        z = str(int(i[3]))\n",
    "        fid.write('%s %s %s \\n' %(x,y,z))"
   ]
  }
 ],
 "metadata": {
  "kernelspec": {
   "display_name": "base",
   "language": "python",
   "name": "python3"
  },
  "language_info": {
   "codemirror_mode": {
    "name": "ipython",
    "version": 3
   },
   "file_extension": ".py",
   "mimetype": "text/x-python",
   "name": "python",
   "nbconvert_exporter": "python",
   "pygments_lexer": "ipython3",
   "version": "3.7.6"
  },
  "orig_nbformat": 4,
  "vscode": {
   "interpreter": {
    "hash": "bdae8ebc0151ec65c4f1198b193fec26fb9b849a179ab75edca17b99fd707516"
   }
  }
 },
 "nbformat": 4,
 "nbformat_minor": 2
}

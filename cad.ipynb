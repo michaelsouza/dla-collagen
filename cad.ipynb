{
 "cells": [
  {
   "cell_type": "code",
   "execution_count": null,
   "metadata": {},
   "outputs": [],
   "source": [
    "import "
   ]
  }
 ],
 "metadata": {
  "kernelspec": {
   "display_name": "Python 3.7.6 ('base')",
   "language": "python",
   "name": "python3"
  },
  "language_info": {
   "name": "python",
   "version": "3.7.6"
  },
  "orig_nbformat": 4,
  "vscode": {
   "interpreter": {
    "hash": "bdae8ebc0151ec65c4f1198b193fec26fb9b849a179ab75edca17b99fd707516"
   }
  }
 },
 "nbformat": 4,
 "nbformat_minor": 2
}
